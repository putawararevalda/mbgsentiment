{
 "cells": [
  {
   "cell_type": "code",
   "execution_count": 1,
   "metadata": {},
   "outputs": [],
   "source": [
    "import pandas as pd\n",
    "from nltk.tokenize import word_tokenize, wordpunct_tokenize\n",
    "from matplotlib import pyplot as plt\n",
    "from nltk.probability import FreqDist\n",
    "import numpy as np\n",
    "import seaborn as sns"
   ]
  },
  {
   "cell_type": "code",
   "execution_count": 2,
   "metadata": {},
   "outputs": [],
   "source": [
    "df = pd.read_csv(r\"dataset\\processed\\kmeans_result.csv\")"
   ]
  },
  {
   "cell_type": "code",
   "execution_count": 3,
   "metadata": {},
   "outputs": [
    {
     "data": {
      "text/html": [
       "<div>\n",
       "<style scoped>\n",
       "    .dataframe tbody tr th:only-of-type {\n",
       "        vertical-align: middle;\n",
       "    }\n",
       "\n",
       "    .dataframe tbody tr th {\n",
       "        vertical-align: top;\n",
       "    }\n",
       "\n",
       "    .dataframe thead th {\n",
       "        text-align: right;\n",
       "    }\n",
       "</style>\n",
       "<table border=\"1\" class=\"dataframe\">\n",
       "  <thead>\n",
       "    <tr style=\"text-align: right;\">\n",
       "      <th></th>\n",
       "      <th>Unnamed: 0.3</th>\n",
       "      <th>Unnamed: 0.2</th>\n",
       "      <th>Unnamed: 0.1</th>\n",
       "      <th>id</th>\n",
       "      <th>edit_history_tweet_ids</th>\n",
       "      <th>created_at</th>\n",
       "      <th>text</th>\n",
       "      <th>author_id</th>\n",
       "      <th>Unnamed: 0</th>\n",
       "      <th>text_cleaned</th>\n",
       "      <th>text_cleaned_stemmed</th>\n",
       "      <th>mdhugol_sentiment</th>\n",
       "      <th>mdhugol_sentiment_score</th>\n",
       "      <th>indobert_sentiment</th>\n",
       "      <th>indobert_sentiment_score</th>\n",
       "      <th>cs_embeddings</th>\n",
       "      <th>assigned_cluster</th>\n",
       "    </tr>\n",
       "  </thead>\n",
       "  <tbody>\n",
       "    <tr>\n",
       "      <th>0</th>\n",
       "      <td>0</td>\n",
       "      <td>0</td>\n",
       "      <td>0</td>\n",
       "      <td>1880655687866552831</td>\n",
       "      <td>1880655687866552831</td>\n",
       "      <td>2025-01-18T16:37:11.000Z</td>\n",
       "      <td>Ketua Umum PDIP Megawati Soekarnoputri sempat ...</td>\n",
       "      <td>917707622026928129</td>\n",
       "      <td>NaN</td>\n",
       "      <td>ketua umum pdip megawati soekarnoputri sempat ...</td>\n",
       "      <td>ketua umum pdip megawati soekarnoputri sempat ...</td>\n",
       "      <td>neutral</td>\n",
       "      <td>0.989232</td>\n",
       "      <td>Neutral</td>\n",
       "      <td>0.999553</td>\n",
       "      <td>[ 7.43569210e-02  2.20975489e-03  2.31713668e-...</td>\n",
       "      <td>2</td>\n",
       "    </tr>\n",
       "    <tr>\n",
       "      <th>1</th>\n",
       "      <td>1</td>\n",
       "      <td>1</td>\n",
       "      <td>1</td>\n",
       "      <td>1880655628819165446</td>\n",
       "      <td>1880655628819165446</td>\n",
       "      <td>2025-01-18T16:36:57.000Z</td>\n",
       "      <td>@HabilIsl Hold $WOWO dapat airdrop makan siang...</td>\n",
       "      <td>112500656</td>\n",
       "      <td>NaN</td>\n",
       "      <td>hold wowo dapat airdrop makansianggratis</td>\n",
       "      <td>hold wowo dapat airdrop makansianggratis</td>\n",
       "      <td>positive</td>\n",
       "      <td>0.912627</td>\n",
       "      <td>Neutral</td>\n",
       "      <td>0.999512</td>\n",
       "      <td>[-3.22193466e-02  5.96734770e-02  2.74469018e-...</td>\n",
       "      <td>4</td>\n",
       "    </tr>\n",
       "    <tr>\n",
       "      <th>2</th>\n",
       "      <td>2</td>\n",
       "      <td>2</td>\n",
       "      <td>2</td>\n",
       "      <td>1880655540717842742</td>\n",
       "      <td>1880655540717842742</td>\n",
       "      <td>2025-01-18T16:36:36.000Z</td>\n",
       "      <td>KALAU MBG NYA INI GUE JUGA MAU DUT BIAR GUE MU...</td>\n",
       "      <td>1266052828742602752</td>\n",
       "      <td>NaN</td>\n",
       "      <td>kalau mbg nya ini gue juga mau dut biar gue mu...</td>\n",
       "      <td>kalau mbg nya ini gue juga mau dut biar gue mu...</td>\n",
       "      <td>negative</td>\n",
       "      <td>0.982285</td>\n",
       "      <td>Negative</td>\n",
       "      <td>0.999828</td>\n",
       "      <td>[-1.37586994e-02  8.19337815e-02  2.12110225e-...</td>\n",
       "      <td>7</td>\n",
       "    </tr>\n",
       "    <tr>\n",
       "      <th>3</th>\n",
       "      <td>3</td>\n",
       "      <td>3</td>\n",
       "      <td>3</td>\n",
       "      <td>1880655480122651014</td>\n",
       "      <td>1880655480122651014</td>\n",
       "      <td>2025-01-18T16:36:22.000Z</td>\n",
       "      <td>@neohistoria_id program MBG tuh B nya Bersyuku...</td>\n",
       "      <td>1838116873331945472</td>\n",
       "      <td>NaN</td>\n",
       "      <td>program mbg tuh b nya bersyukur bukan bergizi</td>\n",
       "      <td>program mbg tuh b nya syukur bukan gizi</td>\n",
       "      <td>negative</td>\n",
       "      <td>0.985092</td>\n",
       "      <td>Negative</td>\n",
       "      <td>0.996238</td>\n",
       "      <td>[-1.39692530e-01 -1.47069255e-02  2.70044863e-...</td>\n",
       "      <td>0</td>\n",
       "    </tr>\n",
       "    <tr>\n",
       "      <th>4</th>\n",
       "      <td>4</td>\n",
       "      <td>4</td>\n",
       "      <td>4</td>\n",
       "      <td>1880655463207117137</td>\n",
       "      <td>1880655463207117137</td>\n",
       "      <td>2025-01-18T16:36:17.000Z</td>\n",
       "      <td>@03__nakula Ga semua anak Indonesia bisa makan...</td>\n",
       "      <td>1511016593353936896</td>\n",
       "      <td>NaN</td>\n",
       "      <td>enggak semua anak indonesia bisa makan siang ...</td>\n",
       "      <td>enggak semua anak indonesia bisa makan siang i...</td>\n",
       "      <td>negative</td>\n",
       "      <td>0.990175</td>\n",
       "      <td>Neutral</td>\n",
       "      <td>0.564391</td>\n",
       "      <td>[-0.06567369  0.06387163  0.13421394 -0.034681...</td>\n",
       "      <td>5</td>\n",
       "    </tr>\n",
       "  </tbody>\n",
       "</table>\n",
       "</div>"
      ],
      "text/plain": [
       "   Unnamed: 0.3  Unnamed: 0.2  Unnamed: 0.1                   id  \\\n",
       "0             0             0             0  1880655687866552831   \n",
       "1             1             1             1  1880655628819165446   \n",
       "2             2             2             2  1880655540717842742   \n",
       "3             3             3             3  1880655480122651014   \n",
       "4             4             4             4  1880655463207117137   \n",
       "\n",
       "   edit_history_tweet_ids                created_at  \\\n",
       "0     1880655687866552831  2025-01-18T16:37:11.000Z   \n",
       "1     1880655628819165446  2025-01-18T16:36:57.000Z   \n",
       "2     1880655540717842742  2025-01-18T16:36:36.000Z   \n",
       "3     1880655480122651014  2025-01-18T16:36:22.000Z   \n",
       "4     1880655463207117137  2025-01-18T16:36:17.000Z   \n",
       "\n",
       "                                                text            author_id  \\\n",
       "0  Ketua Umum PDIP Megawati Soekarnoputri sempat ...   917707622026928129   \n",
       "1  @HabilIsl Hold $WOWO dapat airdrop makan siang...            112500656   \n",
       "2  KALAU MBG NYA INI GUE JUGA MAU DUT BIAR GUE MU...  1266052828742602752   \n",
       "3  @neohistoria_id program MBG tuh B nya Bersyuku...  1838116873331945472   \n",
       "4  @03__nakula Ga semua anak Indonesia bisa makan...  1511016593353936896   \n",
       "\n",
       "   Unnamed: 0                                       text_cleaned  \\\n",
       "0         NaN  ketua umum pdip megawati soekarnoputri sempat ...   \n",
       "1         NaN           hold wowo dapat airdrop makansianggratis   \n",
       "2         NaN  kalau mbg nya ini gue juga mau dut biar gue mu...   \n",
       "3         NaN     program mbg tuh b nya bersyukur bukan bergizi    \n",
       "4         NaN   enggak semua anak indonesia bisa makan siang ...   \n",
       "\n",
       "                                text_cleaned_stemmed mdhugol_sentiment  \\\n",
       "0  ketua umum pdip megawati soekarnoputri sempat ...           neutral   \n",
       "1           hold wowo dapat airdrop makansianggratis          positive   \n",
       "2  kalau mbg nya ini gue juga mau dut biar gue mu...          negative   \n",
       "3            program mbg tuh b nya syukur bukan gizi          negative   \n",
       "4  enggak semua anak indonesia bisa makan siang i...          negative   \n",
       "\n",
       "   mdhugol_sentiment_score indobert_sentiment  indobert_sentiment_score  \\\n",
       "0                 0.989232            Neutral                  0.999553   \n",
       "1                 0.912627            Neutral                  0.999512   \n",
       "2                 0.982285           Negative                  0.999828   \n",
       "3                 0.985092           Negative                  0.996238   \n",
       "4                 0.990175            Neutral                  0.564391   \n",
       "\n",
       "                                       cs_embeddings  assigned_cluster  \n",
       "0  [ 7.43569210e-02  2.20975489e-03  2.31713668e-...                 2  \n",
       "1  [-3.22193466e-02  5.96734770e-02  2.74469018e-...                 4  \n",
       "2  [-1.37586994e-02  8.19337815e-02  2.12110225e-...                 7  \n",
       "3  [-1.39692530e-01 -1.47069255e-02  2.70044863e-...                 0  \n",
       "4  [-0.06567369  0.06387163  0.13421394 -0.034681...                 5  "
      ]
     },
     "execution_count": 3,
     "metadata": {},
     "output_type": "execute_result"
    }
   ],
   "source": [
    "df.head()"
   ]
  },
  {
   "cell_type": "code",
   "execution_count": 4,
   "metadata": {},
   "outputs": [],
   "source": [
    "df['tokens'] = df['text_cleaned_stemmed'].apply(lambda x: wordpunct_tokenize(x))"
   ]
  },
  {
   "cell_type": "code",
   "execution_count": 5,
   "metadata": {},
   "outputs": [
    {
     "data": {
      "text/plain": [
       "760"
      ]
     },
     "execution_count": 5,
     "metadata": {},
     "output_type": "execute_result"
    }
   ],
   "source": [
    "f = open(\"id.stopwords.02.01.2016.txt\", \"r\")\n",
    "stopword_list = []\n",
    "for line in f:\n",
    "    stripped_line = line.strip()\n",
    "    line_list = stripped_line.split()\n",
    "    stopword_list.append(line_list[0])\n",
    "f.close()\n",
    "\n",
    "stopword_list.append(\"nya\")\n",
    "stopword_list.append(\"ya\")\n",
    "\n",
    "len(stopword_list)"
   ]
  },
  {
   "cell_type": "code",
   "execution_count": 6,
   "metadata": {},
   "outputs": [],
   "source": [
    "excluded_words = [\"makanbergizigratis\", \"makansianggratis\", \"mbg\", \"makan\", \"program\", \"gratis\", \"siang\"]"
   ]
  },
  {
   "cell_type": "code",
   "execution_count": 7,
   "metadata": {},
   "outputs": [],
   "source": [
    "df['tokens'] = df['tokens'].apply(lambda x: [word for word in x if word not in stopword_list])\n",
    "df['tokens'] = df['tokens'].apply(lambda x: [word for word in x if word not in excluded_words])"
   ]
  },
  {
   "cell_type": "code",
   "execution_count": 26,
   "metadata": {},
   "outputs": [],
   "source": []
  },
  {
   "cell_type": "code",
   "execution_count": 8,
   "metadata": {},
   "outputs": [],
   "source": [
    "all_tokens_per_cluster = {}\n",
    "\n",
    "for i in range(len(df[\"assigned_cluster\"].unique())):\n",
    "    all_tokens = [token for tokens_list in df['tokens'][df['assigned_cluster']==i] for token in tokens_list]\n",
    "    all_tokens_per_cluster[i] = all_tokens\n",
    "    del all_tokens"
   ]
  },
  {
   "cell_type": "code",
   "execution_count": 37,
   "metadata": {},
   "outputs": [
    {
     "data": {
      "image/png": "[encoded data removed]",
      "text/plain": [
       "<Figure size 1000x500 with 1 Axes>"
      ]
     },
     "metadata": {},
     "output_type": "display_data"
    }
   ],
   "source": [
    "# Calculate word frequency\n",
    "freq_dist = FreqDist(all_tokens_per_cluster[0])\n",
    "# Plot the most common words\n",
    "plt.figure(figsize=(10, 5))\n",
    "freq_dist.plot(30, cumulative=False)\n",
    "plt.xlabel('Words')\n",
    "plt.ylabel('Frequency')\n",
    "plt.xticks(rotation=90)\n",
    "plt.yticks(np.arange(0,freq_dist[freq_dist.max()]+1,step=1))\n",
    "plt.show()"
   ]
  },
  {
   "cell_type": "code",
   "execution_count": 66,
   "metadata": {},
   "outputs": [
    {
     "data": {
      "image/png": "[encoded data removed]",
      "text/plain": [
       "<Figure size 1000x1000 with 1 Axes>"
      ]
     },
     "metadata": {},
     "output_type": "display_data"
    }
   ],
   "source": [
    "index_chosen=7\n",
    "freq_dist = FreqDist(all_tokens_per_cluster[index_chosen])\n",
    "new_freq_dist = freq_dist.most_common(20)\n",
    "reverse_sort=True\n",
    "# Sort values by highest frequency\n",
    "fd_sorted = {k:v for k,v in sorted(new_freq_dist, key=lambda item:item[1], reverse=reverse_sort)}\n",
    "\n",
    "## Convert to Pandas series for easy plotting\n",
    "fd_series = pd.Series(fd_sorted)\n",
    "\n",
    "## Setting figure & ax for plots\n",
    "fig, ax = plt.subplots(figsize=(10,10))\n",
    "\n",
    "## Setting plot to horizontal for easy viewing + setting title + display  \n",
    "bar_plot = sns.barplot(x=fd_series.values, y=fd_series.index, orient='h', ax=ax)\n",
    "ax.bar_label(ax.containers[0])\n",
    "\n",
    "plt.title('Frequency Distribution top 20\\nCluster Number : {}'.format(index_chosen))\n",
    "plt.xlabel(\"count\")\n",
    "plt.ylabel(\"word\")\n",
    "plt.show()"
   ]
  },
  {
   "cell_type": "code",
   "execution_count": 105,
   "metadata": {},
   "outputs": [],
   "source": [
    "freqtable = pd.DataFrame(columns=[\"word\",\"count\"])\n",
    "\n",
    "for i in (df[\"assigned_cluster\"].unique()):\n",
    "    index_chosen=i\n",
    "    freq_dist = FreqDist(all_tokens_per_cluster[index_chosen])\n",
    "    new_freq_dist = freq_dist.most_common(20)\n",
    "    reverse_sort=True\n",
    "    # Sort values by highest frequency\n",
    "    fd_sorted = {k:v for k,v in sorted(new_freq_dist, key=lambda item:item[1], reverse=reverse_sort)}\n",
    "\n",
    "    ## Convert to Pandas series for easy plotting\n",
    "    fd_series = pd.Series(fd_sorted)\n",
    "    \n",
    "    newft = pd.DataFrame(fd_series,columns=[\"count\"]).reset_index().rename(columns={\"index\":\"word\"})\n",
    "    newft[\"assigned_clusters\"] = i\n",
    "    newft[\"assigned_clusters\"] = newft[\"assigned_clusters\"].astype(int)\n",
    "    freqtable = pd.concat([freqtable,newft])\n",
    "\n",
    "freqtable = freqtable[[\"assigned_clusters\",\"word\",\"count\"]]"
   ]
  },
  {
   "cell_type": "code",
   "execution_count": 106,
   "metadata": {},
   "outputs": [
    {
     "data": {
      "text/html": [
       "<div>\n",
       "<style scoped>\n",
       "    .dataframe tbody tr th:only-of-type {\n",
       "        vertical-align: middle;\n",
       "    }\n",
       "\n",
       "    .dataframe tbody tr th {\n",
       "        vertical-align: top;\n",
       "    }\n",
       "\n",
       "    .dataframe thead th {\n",
       "        text-align: right;\n",
       "    }\n",
       "</style>\n",
       "<table border=\"1\" class=\"dataframe\">\n",
       "  <thead>\n",
       "    <tr style=\"text-align: right;\">\n",
       "      <th></th>\n",
       "      <th>assigned_clusters</th>\n",
       "      <th>word</th>\n",
       "      <th>count</th>\n",
       "    </tr>\n",
       "  </thead>\n",
       "  <tbody>\n",
       "    <tr>\n",
       "      <th>0</th>\n",
       "      <td>2.0</td>\n",
       "      <td>anggar</td>\n",
       "      <td>10</td>\n",
       "    </tr>\n",
       "    <tr>\n",
       "      <th>1</th>\n",
       "      <td>2.0</td>\n",
       "      <td>rakyat</td>\n",
       "      <td>10</td>\n",
       "    </tr>\n",
       "    <tr>\n",
       "      <th>2</th>\n",
       "      <td>2.0</td>\n",
       "      <td>bantu</td>\n",
       "      <td>9</td>\n",
       "    </tr>\n",
       "    <tr>\n",
       "      <th>3</th>\n",
       "      <td>2.0</td>\n",
       "      <td>dana</td>\n",
       "      <td>9</td>\n",
       "    </tr>\n",
       "    <tr>\n",
       "      <th>4</th>\n",
       "      <td>2.0</td>\n",
       "      <td>hasil</td>\n",
       "      <td>7</td>\n",
       "    </tr>\n",
       "    <tr>\n",
       "      <th>...</th>\n",
       "      <td>...</td>\n",
       "      <td>...</td>\n",
       "      <td>...</td>\n",
       "    </tr>\n",
       "    <tr>\n",
       "      <th>15</th>\n",
       "      <td>6.0</td>\n",
       "      <td>enak</td>\n",
       "      <td>2</td>\n",
       "    </tr>\n",
       "    <tr>\n",
       "      <th>16</th>\n",
       "      <td>6.0</td>\n",
       "      <td>presiden</td>\n",
       "      <td>2</td>\n",
       "    </tr>\n",
       "    <tr>\n",
       "      <th>17</th>\n",
       "      <td>6.0</td>\n",
       "      <td>bikin</td>\n",
       "      <td>2</td>\n",
       "    </tr>\n",
       "    <tr>\n",
       "      <th>18</th>\n",
       "      <td>6.0</td>\n",
       "      <td>mantan</td>\n",
       "      <td>2</td>\n",
       "    </tr>\n",
       "    <tr>\n",
       "      <th>19</th>\n",
       "      <td>6.0</td>\n",
       "      <td>dr</td>\n",
       "      <td>2</td>\n",
       "    </tr>\n",
       "  </tbody>\n",
       "</table>\n",
       "<p>160 rows × 3 columns</p>\n",
       "</div>"
      ],
      "text/plain": [
       "    assigned_clusters      word count\n",
       "0                 2.0    anggar    10\n",
       "1                 2.0    rakyat    10\n",
       "2                 2.0     bantu     9\n",
       "3                 2.0      dana     9\n",
       "4                 2.0     hasil     7\n",
       "..                ...       ...   ...\n",
       "15                6.0      enak     2\n",
       "16                6.0  presiden     2\n",
       "17                6.0     bikin     2\n",
       "18                6.0    mantan     2\n",
       "19                6.0        dr     2\n",
       "\n",
       "[160 rows x 3 columns]"
      ]
     },
     "execution_count": 106,
     "metadata": {},
     "output_type": "execute_result"
    }
   ],
   "source": [
    "freqtable"
   ]
  },
  {
   "cell_type": "code",
   "execution_count": 107,
   "metadata": {},
   "outputs": [],
   "source": [
    "freqtable.to_csv(r\"dataset\\processed\\wordcount_by_cluster.csv\")"
   ]
  },
  {
   "cell_type": "code",
   "execution_count": 108,
   "metadata": {},
   "outputs": [],
   "source": [
    "freqtable.to_excel(r\"dataset\\processed\\wordcount_by_cluster.xlsx\")"
   ]
  },
  {
   "cell_type": "code",
   "execution_count": null,
   "metadata": {},
   "outputs": [],
   "source": []
  }
 ],
 "metadata": {
  "kernelspec": {
   "display_name": "mbgsentiment",
   "language": "python",
   "name": "python3"
  },
  "language_info": {
   "codemirror_mode": {
    "name": "ipython",
    "version": 3
   },
   "file_extension": ".py",
   "mimetype": "text/x-python",
   "name": "python",
   "nbconvert_exporter": "python",
   "pygments_lexer": "ipython3",
   "version": "3.12.8"
  }
 },
 "nbformat": 4,
 "nbformat_minor": 2
}
