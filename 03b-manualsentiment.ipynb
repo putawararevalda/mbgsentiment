{
 "cells": [
  {
   "cell_type": "code",
   "execution_count": 2,
   "metadata": {},
   "outputs": [],
   "source": [
    "import pandas as pd"
   ]
  },
  {
   "cell_type": "code",
   "execution_count": 3,
   "metadata": {},
   "outputs": [],
   "source": [
    "tweetdata = pd.read_csv(r\"dataset/processed/processed_data.csv\")\n",
    "sentimentdata = pd.read_excel((r\"dataset/to_be_annotated DE.xlsx\")).reset_index()"
   ]
  },
  {
   "cell_type": "code",
   "execution_count": 4,
   "metadata": {},
   "outputs": [
    {
     "name": "stdout",
     "output_type": "stream",
     "text": [
      "<class 'pandas.core.frame.DataFrame'>\n",
      "RangeIndex: 4717 entries, 0 to 4716\n",
      "Data columns (total 9 columns):\n",
      " #   Column                  Non-Null Count  Dtype  \n",
      "---  ------                  --------------  -----  \n",
      " 0   Unnamed: 0.1            4717 non-null   int64  \n",
      " 1   id                      4717 non-null   int64  \n",
      " 2   edit_history_tweet_ids  4717 non-null   object \n",
      " 3   created_at              4717 non-null   object \n",
      " 4   text                    4717 non-null   object \n",
      " 5   author_id               4717 non-null   int64  \n",
      " 6   Unnamed: 0              90 non-null     float64\n",
      " 7   text_cleaned            4717 non-null   object \n",
      " 8   text_cleaned_stemmed    4717 non-null   object \n",
      "dtypes: float64(1), int64(3), object(5)\n",
      "memory usage: 331.8+ KB\n"
     ]
    }
   ],
   "source": [
    "tweetdata.info()"
   ]
  },
  {
   "cell_type": "code",
   "execution_count": 5,
   "metadata": {},
   "outputs": [
    {
     "name": "stdout",
     "output_type": "stream",
     "text": [
      "<class 'pandas.core.frame.DataFrame'>\n",
      "RangeIndex: 4717 entries, 0 to 4716\n",
      "Data columns (total 9 columns):\n",
      " #   Column                  Non-Null Count  Dtype \n",
      "---  ------                  --------------  ----- \n",
      " 0   index                   4717 non-null   int64 \n",
      " 1   id                      4717 non-null   int64 \n",
      " 2   edit_history_tweet_ids  4717 non-null   object\n",
      " 3   created_at              4717 non-null   object\n",
      " 4   text                    4717 non-null   object\n",
      " 5   author_id               4717 non-null   int64 \n",
      " 6   PIC                     4717 non-null   object\n",
      " 7   Type                    4717 non-null   object\n",
      " 8   Notes                   2292 non-null   object\n",
      "dtypes: int64(3), object(6)\n",
      "memory usage: 331.8+ KB\n"
     ]
    }
   ],
   "source": [
    "sentimentdata.info()"
   ]
  },
  {
   "cell_type": "code",
   "execution_count": 6,
   "metadata": {},
   "outputs": [
    {
     "data": {
      "text/plain": [
       "4717"
      ]
     },
     "execution_count": 6,
     "metadata": {},
     "output_type": "execute_result"
    }
   ],
   "source": [
    "len(tweetdata)"
   ]
  },
  {
   "cell_type": "code",
   "execution_count": 7,
   "metadata": {},
   "outputs": [
    {
     "data": {
      "text/plain": [
       "4717"
      ]
     },
     "execution_count": 7,
     "metadata": {},
     "output_type": "execute_result"
    }
   ],
   "source": [
    "len(sentimentdata)"
   ]
  },
  {
   "cell_type": "code",
   "execution_count": 8,
   "metadata": {},
   "outputs": [
    {
     "data": {
      "text/html": [
       "<div>\n",
       "<style scoped>\n",
       "    .dataframe tbody tr th:only-of-type {\n",
       "        vertical-align: middle;\n",
       "    }\n",
       "\n",
       "    .dataframe tbody tr th {\n",
       "        vertical-align: top;\n",
       "    }\n",
       "\n",
       "    .dataframe thead th {\n",
       "        text-align: right;\n",
       "    }\n",
       "</style>\n",
       "<table border=\"1\" class=\"dataframe\">\n",
       "  <thead>\n",
       "    <tr style=\"text-align: right;\">\n",
       "      <th></th>\n",
       "      <th>index</th>\n",
       "      <th>id</th>\n",
       "      <th>edit_history_tweet_ids</th>\n",
       "      <th>created_at</th>\n",
       "      <th>text</th>\n",
       "      <th>author_id</th>\n",
       "      <th>PIC</th>\n",
       "      <th>Type</th>\n",
       "      <th>Notes</th>\n",
       "    </tr>\n",
       "  </thead>\n",
       "  <tbody>\n",
       "    <tr>\n",
       "      <th>0</th>\n",
       "      <td>0</td>\n",
       "      <td>1880655687866553088</td>\n",
       "      <td>1880655687866552831</td>\n",
       "      <td>2025-01-18T16:37:11.000Z</td>\n",
       "      <td>Ketua Umum PDIP Megawati Soekarnoputri sempat ...</td>\n",
       "      <td>917707622026928128</td>\n",
       "      <td>Kia</td>\n",
       "      <td>Negatif</td>\n",
       "      <td>NaN</td>\n",
       "    </tr>\n",
       "    <tr>\n",
       "      <th>1</th>\n",
       "      <td>1</td>\n",
       "      <td>1880655628819164928</td>\n",
       "      <td>1880655628819165446</td>\n",
       "      <td>2025-01-18T16:36:57.000Z</td>\n",
       "      <td>@HabilIsl Hold $WOWO dapat airdrop makan siang...</td>\n",
       "      <td>112500656</td>\n",
       "      <td>Kia</td>\n",
       "      <td>Outlier</td>\n",
       "      <td>NaN</td>\n",
       "    </tr>\n",
       "    <tr>\n",
       "      <th>2</th>\n",
       "      <td>2</td>\n",
       "      <td>1880655540717842944</td>\n",
       "      <td>1880655540717842742</td>\n",
       "      <td>2025-01-18T16:36:36.000Z</td>\n",
       "      <td>KALAU MBG NYA INI GUE JUGA MAU DUT BIAR GUE MU...</td>\n",
       "      <td>1266052828742603008</td>\n",
       "      <td>Kia</td>\n",
       "      <td>Negatif</td>\n",
       "      <td>NaN</td>\n",
       "    </tr>\n",
       "    <tr>\n",
       "      <th>3</th>\n",
       "      <td>3</td>\n",
       "      <td>1880655480122650880</td>\n",
       "      <td>1880655480122651014</td>\n",
       "      <td>2025-01-18T16:36:22.000Z</td>\n",
       "      <td>@neohistoria_id program MBG tuh B nya Bersyuku...</td>\n",
       "      <td>1838116873331944960</td>\n",
       "      <td>Kia</td>\n",
       "      <td>Negatif</td>\n",
       "      <td>NaN</td>\n",
       "    </tr>\n",
       "    <tr>\n",
       "      <th>4</th>\n",
       "      <td>4</td>\n",
       "      <td>1880655463207117056</td>\n",
       "      <td>1880655463207117137</td>\n",
       "      <td>2025-01-18T16:36:17.000Z</td>\n",
       "      <td>@03__nakula Ga semua anak Indonesia bisa makan...</td>\n",
       "      <td>1511016593353936896</td>\n",
       "      <td>Kia</td>\n",
       "      <td>Positif</td>\n",
       "      <td>NaN</td>\n",
       "    </tr>\n",
       "  </tbody>\n",
       "</table>\n",
       "</div>"
      ],
      "text/plain": [
       "   index                   id edit_history_tweet_ids  \\\n",
       "0      0  1880655687866553088    1880655687866552831   \n",
       "1      1  1880655628819164928    1880655628819165446   \n",
       "2      2  1880655540717842944    1880655540717842742   \n",
       "3      3  1880655480122650880    1880655480122651014   \n",
       "4      4  1880655463207117056    1880655463207117137   \n",
       "\n",
       "                 created_at  \\\n",
       "0  2025-01-18T16:37:11.000Z   \n",
       "1  2025-01-18T16:36:57.000Z   \n",
       "2  2025-01-18T16:36:36.000Z   \n",
       "3  2025-01-18T16:36:22.000Z   \n",
       "4  2025-01-18T16:36:17.000Z   \n",
       "\n",
       "                                                text            author_id  \\\n",
       "0  Ketua Umum PDIP Megawati Soekarnoputri sempat ...   917707622026928128   \n",
       "1  @HabilIsl Hold $WOWO dapat airdrop makan siang...            112500656   \n",
       "2  KALAU MBG NYA INI GUE JUGA MAU DUT BIAR GUE MU...  1266052828742603008   \n",
       "3  @neohistoria_id program MBG tuh B nya Bersyuku...  1838116873331944960   \n",
       "4  @03__nakula Ga semua anak Indonesia bisa makan...  1511016593353936896   \n",
       "\n",
       "   PIC     Type Notes  \n",
       "0  Kia  Negatif   NaN  \n",
       "1  Kia  Outlier   NaN  \n",
       "2  Kia  Negatif   NaN  \n",
       "3  Kia  Negatif   NaN  \n",
       "4  Kia  Positif   NaN  "
      ]
     },
     "execution_count": 8,
     "metadata": {},
     "output_type": "execute_result"
    }
   ],
   "source": [
    "sentimentdata.head()"
   ]
  },
  {
   "cell_type": "code",
   "execution_count": 9,
   "metadata": {},
   "outputs": [],
   "source": [
    "combined_data = tweetdata.merge(sentimentdata[[\"index\",\"Type\"]],left_on=\"Unnamed: 0.1\",right_on=\"index\",how='inner').drop(columns=\"index\")"
   ]
  },
  {
   "cell_type": "code",
   "execution_count": 10,
   "metadata": {},
   "outputs": [
    {
     "data": {
      "text/plain": [
       "4717"
      ]
     },
     "execution_count": 10,
     "metadata": {},
     "output_type": "execute_result"
    }
   ],
   "source": [
    "len(combined_data)"
   ]
  },
  {
   "cell_type": "code",
   "execution_count": 11,
   "metadata": {},
   "outputs": [
    {
     "data": {
      "text/html": [
       "<div>\n",
       "<style scoped>\n",
       "    .dataframe tbody tr th:only-of-type {\n",
       "        vertical-align: middle;\n",
       "    }\n",
       "\n",
       "    .dataframe tbody tr th {\n",
       "        vertical-align: top;\n",
       "    }\n",
       "\n",
       "    .dataframe thead th {\n",
       "        text-align: right;\n",
       "    }\n",
       "</style>\n",
       "<table border=\"1\" class=\"dataframe\">\n",
       "  <thead>\n",
       "    <tr style=\"text-align: right;\">\n",
       "      <th></th>\n",
       "      <th>Unnamed: 0.1</th>\n",
       "      <th>id</th>\n",
       "      <th>edit_history_tweet_ids</th>\n",
       "      <th>created_at</th>\n",
       "      <th>text</th>\n",
       "      <th>author_id</th>\n",
       "      <th>Unnamed: 0</th>\n",
       "      <th>text_cleaned</th>\n",
       "      <th>text_cleaned_stemmed</th>\n",
       "    </tr>\n",
       "    <tr>\n",
       "      <th>Type</th>\n",
       "      <th></th>\n",
       "      <th></th>\n",
       "      <th></th>\n",
       "      <th></th>\n",
       "      <th></th>\n",
       "      <th></th>\n",
       "      <th></th>\n",
       "      <th></th>\n",
       "      <th></th>\n",
       "    </tr>\n",
       "  </thead>\n",
       "  <tbody>\n",
       "    <tr>\n",
       "      <th>Negatif</th>\n",
       "      <td>1478</td>\n",
       "      <td>1478</td>\n",
       "      <td>1478</td>\n",
       "      <td>1478</td>\n",
       "      <td>1478</td>\n",
       "      <td>1478</td>\n",
       "      <td>32</td>\n",
       "      <td>1478</td>\n",
       "      <td>1478</td>\n",
       "    </tr>\n",
       "    <tr>\n",
       "      <th>Netral</th>\n",
       "      <td>508</td>\n",
       "      <td>508</td>\n",
       "      <td>508</td>\n",
       "      <td>508</td>\n",
       "      <td>508</td>\n",
       "      <td>508</td>\n",
       "      <td>37</td>\n",
       "      <td>508</td>\n",
       "      <td>508</td>\n",
       "    </tr>\n",
       "    <tr>\n",
       "      <th>Outlier</th>\n",
       "      <td>187</td>\n",
       "      <td>187</td>\n",
       "      <td>187</td>\n",
       "      <td>187</td>\n",
       "      <td>187</td>\n",
       "      <td>187</td>\n",
       "      <td>9</td>\n",
       "      <td>187</td>\n",
       "      <td>187</td>\n",
       "    </tr>\n",
       "    <tr>\n",
       "      <th>Positif</th>\n",
       "      <td>2544</td>\n",
       "      <td>2544</td>\n",
       "      <td>2544</td>\n",
       "      <td>2544</td>\n",
       "      <td>2544</td>\n",
       "      <td>2544</td>\n",
       "      <td>12</td>\n",
       "      <td>2544</td>\n",
       "      <td>2544</td>\n",
       "    </tr>\n",
       "  </tbody>\n",
       "</table>\n",
       "</div>"
      ],
      "text/plain": [
       "         Unnamed: 0.1    id  edit_history_tweet_ids  created_at  text  \\\n",
       "Type                                                                    \n",
       "Negatif          1478  1478                    1478        1478  1478   \n",
       "Netral            508   508                     508         508   508   \n",
       "Outlier           187   187                     187         187   187   \n",
       "Positif          2544  2544                    2544        2544  2544   \n",
       "\n",
       "         author_id  Unnamed: 0  text_cleaned  text_cleaned_stemmed  \n",
       "Type                                                                \n",
       "Negatif       1478          32          1478                  1478  \n",
       "Netral         508          37           508                   508  \n",
       "Outlier        187           9           187                   187  \n",
       "Positif       2544          12          2544                  2544  "
      ]
     },
     "execution_count": 11,
     "metadata": {},
     "output_type": "execute_result"
    }
   ],
   "source": [
    "combined_data.groupby(\"Type\").count()"
   ]
  },
  {
   "cell_type": "code",
   "execution_count": 12,
   "metadata": {},
   "outputs": [
    {
     "data": {
      "text/plain": [
       "array(['Negatif', 'Outlier', 'Positif', 'Netral'], dtype=object)"
      ]
     },
     "execution_count": 12,
     "metadata": {},
     "output_type": "execute_result"
    }
   ],
   "source": [
    "combined_data[\"Type\"].unique()"
   ]
  },
  {
   "cell_type": "markdown",
   "metadata": {},
   "source": [
    "## Filter Outlier"
   ]
  },
  {
   "cell_type": "code",
   "execution_count": 37,
   "metadata": {},
   "outputs": [],
   "source": [
    "combined_data = combined_data[combined_data[\"Type\"]!=\"Outlier\"].reset_index(drop=True)"
   ]
  },
  {
   "cell_type": "code",
   "execution_count": 40,
   "metadata": {},
   "outputs": [],
   "source": [
    "combined_data.to_csv(r\"dataset/processed/processed_data_sentiment.csv\")"
   ]
  },
  {
   "cell_type": "code",
   "execution_count": 41,
   "metadata": {},
   "outputs": [],
   "source": [
    "combined_data.to_excel(r\"dataset/processed/processed_data_sentiment.xlsx\")"
   ]
  },
  {
   "cell_type": "code",
   "execution_count": null,
   "metadata": {},
   "outputs": [],
   "source": []
  }
 ],
 "metadata": {
  "kernelspec": {
   "display_name": "Python 3",
   "language": "python",
   "name": "python3"
  },
  "language_info": {
   "codemirror_mode": {
    "name": "ipython",
    "version": 3
   },
   "file_extension": ".py",
   "mimetype": "text/x-python",
   "name": "python",
   "nbconvert_exporter": "python",
   "pygments_lexer": "ipython3",
   "version": "3.12.8"
  }
 },
 "nbformat": 4,
 "nbformat_minor": 2
}
