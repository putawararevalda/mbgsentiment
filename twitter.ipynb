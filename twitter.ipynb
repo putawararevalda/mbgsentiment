{
 "cells": [
  {
   "cell_type": "code",
   "execution_count": 1,
   "metadata": {},
   "outputs": [],
   "source": [
    "import requests\n",
    "import json\n",
    "import time\n",
    "import random\n",
    "import os\n",
    "import pandas as pd"
   ]
  },
  {
   "cell_type": "code",
   "execution_count": 2,
   "metadata": {},
   "outputs": [],
   "source": [
    "from dotenv import load_dotenv\n",
    "from datetime import datetime, timedelta\n",
    "from pytz import timezone\n",
    "\n",
    "load_dotenv()\n",
    "\n",
    "BEARERTOKEN = os.getenv('BEARERTOKEN')"
   ]
  },
  {
   "cell_type": "markdown",
   "metadata": {},
   "source": [
    "Source Code : https://medium.com/data-analytics-at-nesta/all-you-need-to-get-started-with-twitter-api-v2-using-python-6cd4be4d90fe"
   ]
  },
  {
   "cell_type": "code",
   "execution_count": 9,
   "metadata": {},
   "outputs": [],
   "source": [
    "# Endpoint URL\n",
    "endpoint_url = \"https://api.twitter.com/2/tweets/search/recent\"\n",
    "\n",
    "#Timed settings with ISO 8601 format\n",
    "local_time = timezone(\"Asia/Jakarta\").localize(datetime(2025, 1, 26, 19, 0, 0))\n",
    "start_time = local_time.astimezone(timezone(\"UTC\")).strftime(\"%Y-%m-%dT%H:%M:%SZ\")"
   ]
  },
  {
   "cell_type": "code",
   "execution_count": 4,
   "metadata": {},
   "outputs": [],
   "source": [
    "# Query parameters\n",
    "#query_parameters = {\n",
    "#    \"query\": '(\"makan bergizi gratis\" OR \"makan siang gratis\" OR \"MBG\") lang:id -is:retweet',\n",
    "#    \"tweet.fields\": \"id,text,author_id,created_at\",\n",
    "#    \"start_time\": start_time,\n",
    "#    \"max_results\": 10,\n",
    "#}"
   ]
  },
  {
   "cell_type": "code",
   "execution_count": 4,
   "metadata": {},
   "outputs": [],
   "source": [
    "def request_headers(bearer_token: str) -> dict:\n",
    "    \"\"\"\n",
    "    Sets up the request headers. \n",
    "    Returns a dictionary summarising the bearer token authentication details.\n",
    "    \"\"\"\n",
    "    return {\"Authorization\": \"Bearer {}\".format(bearer_token)}\n",
    "\n",
    "headers = request_headers(BEARERTOKEN)"
   ]
  },
  {
   "cell_type": "code",
   "execution_count": 5,
   "metadata": {},
   "outputs": [],
   "source": [
    "def connect_to_endpoint(endpoint_url: str, headers: dict, parameters: dict) -> json:\n",
    "    \"\"\"\n",
    "    Connects to the endpoint and requests data.\n",
    "    Returns a json with Twitter data if a 200 status code is yielded.\n",
    "    Programme stops if there is a problem with the request and sleeps\n",
    "    if there is a temporary problem accessing the endpoint.\n",
    "    \"\"\"\n",
    "    response = requests.request(\n",
    "        \"GET\", url=endpoint_url, headers=headers, params=parameters\n",
    "    )\n",
    "    response_status_code = response.status_code\n",
    "    if response_status_code != 200:\n",
    "        if response_status_code >= 400 and response_status_code < 500:\n",
    "            raise Exception(\n",
    "                \"Cannot get data, the program will stop!\\nHTTP {}: {}\".format(\n",
    "                    response_status_code, response.text\n",
    "                )\n",
    "            )\n",
    "        \n",
    "        sleep_seconds = random.randint(5, 60)\n",
    "        print(\n",
    "            \"Cannot get data, your program will sleep for {} seconds...\\nHTTP {}: {}\".format(\n",
    "                sleep_seconds, response_status_code, response.text\n",
    "            )\n",
    "        )\n",
    "        time.sleep(sleep_seconds)\n",
    "        return connect_to_endpoint(endpoint_url, headers, parameters)\n",
    "    return response.json()\n",
    "\n",
    "#uncomment to execute\n",
    "#json_response = connect_to_endpoint(endpoint_url, headers, query_parameters)"
   ]
  },
  {
   "cell_type": "code",
   "execution_count": 6,
   "metadata": {},
   "outputs": [],
   "source": [
    "#set up rules\n",
    "#rules = [\n",
    "#    {\"value\": '(\"makan bergizi gratis\" OR \"makan siang gratis\" OR \"MBG\") lang:id -is:retweet', \"tag\": \"mbg\"},\n",
    "#]"
   ]
  },
  {
   "cell_type": "code",
   "execution_count": 7,
   "metadata": {},
   "outputs": [],
   "source": [
    "def process_twitter_data(\n",
    "    json_response: json,\n",
    "    query_tag: str,\n",
    "    tweets_data: pd.DataFrame,\n",
    "    users_data: pd.DataFrame,\n",
    ") -> (pd.DataFrame, pd.DataFrame):\n",
    "    \"\"\"\n",
    "    Adds new tweet/user information to the table of\n",
    "    tweets/users and saves dataframes as pickle files,\n",
    "    if data is avaiable.\n",
    "    \n",
    "    Returns the tweets and users updated dataframes.\n",
    "    \"\"\"\n",
    "    if \"data\" in json_response.keys():\n",
    "        new = pd.DataFrame(json_response[\"data\"])\n",
    "        tweets_data = pd.concat([tweets_data, new])\n",
    "        tweets_data.to_pickle(\"tweets_\" + query_tag + \".pkl\")\n",
    "\n",
    "        if \"users\" in json_response[\"includes\"].keys():\n",
    "            new = pd.DataFrame(json_response[\"includes\"][\"users\"])\n",
    "            users_data = pd.concat([users_data, new])\n",
    "            users_data.drop_duplicates(\"id\", inplace=True)\n",
    "            users_data.to_pickle(\"users_\" + query_tag + \".pkl\")\n",
    "\n",
    "    return tweets_data, users_data"
   ]
  },
  {
   "cell_type": "code",
   "execution_count": 8,
   "metadata": {},
   "outputs": [],
   "source": [
    "query_parameters = {\n",
    "    \"tweet.fields\": \"id,text,author_id,created_at\",\n",
    "    \"user.fields\": \"id,name,username,created_at,description,location,verified\",\n",
    "    \"start_time\": start_time,\n",
    "    \"max_results\": 99,\n",
    "}"
   ]
  },
  {
   "cell_type": "code",
   "execution_count": 10,
   "metadata": {},
   "outputs": [],
   "source": [
    "rules = [\n",
    "    {\"value\": '(\"makan bergizi gratis\" OR \"makan siang gratis\" OR \"MBG\") lang:id -is:retweet', \"tag\": \"mbg\"},\n",
    "]"
   ]
  },
  {
   "cell_type": "code",
   "execution_count": 12,
   "metadata": {},
   "outputs": [
    {
     "ename": "Exception",
     "evalue": "Cannot get data, the program will stop!\nHTTP 429: {\"title\":\"Too Many Requests\",\"detail\":\"Too Many Requests\",\"type\":\"about:blank\",\"status\":429}",
     "output_type": "error",
     "traceback": [
      "\u001b[1;31m---------------------------------------------------------------------------\u001b[0m",
      "\u001b[1;31mException\u001b[0m                                 Traceback (most recent call last)",
      "Cell \u001b[1;32mIn[12], line 8\u001b[0m\n\u001b[0;32m      5\u001b[0m query_parameters[\u001b[38;5;124m\"\u001b[39m\u001b[38;5;124mquery\u001b[39m\u001b[38;5;124m\"\u001b[39m] \u001b[38;5;241m=\u001b[39m rules[i][\u001b[38;5;124m\"\u001b[39m\u001b[38;5;124mvalue\u001b[39m\u001b[38;5;124m\"\u001b[39m]\n\u001b[0;32m      6\u001b[0m query_tag \u001b[38;5;241m=\u001b[39m rules[i][\u001b[38;5;124m\"\u001b[39m\u001b[38;5;124mtag\u001b[39m\u001b[38;5;124m\"\u001b[39m]\n\u001b[1;32m----> 8\u001b[0m json_response \u001b[38;5;241m=\u001b[39m \u001b[43mconnect_to_endpoint\u001b[49m\u001b[43m(\u001b[49m\u001b[43mendpoint_url\u001b[49m\u001b[43m,\u001b[49m\u001b[43m \u001b[49m\u001b[43mheaders\u001b[49m\u001b[43m,\u001b[49m\u001b[43m \u001b[49m\u001b[43mquery_parameters\u001b[49m\u001b[43m)\u001b[49m\n\u001b[0;32m      9\u001b[0m tweets_data, users_data \u001b[38;5;241m=\u001b[39m process_twitter_data(\n\u001b[0;32m     10\u001b[0m     json_response, query_tag, tweets_data, users_data\n\u001b[0;32m     11\u001b[0m )\n\u001b[0;32m     13\u001b[0m time\u001b[38;5;241m.\u001b[39msleep(\u001b[38;5;241m20\u001b[39m)\n",
      "Cell \u001b[1;32mIn[5], line 14\u001b[0m, in \u001b[0;36mconnect_to_endpoint\u001b[1;34m(endpoint_url, headers, parameters)\u001b[0m\n\u001b[0;32m     12\u001b[0m \u001b[38;5;28;01mif\u001b[39;00m response_status_code \u001b[38;5;241m!=\u001b[39m \u001b[38;5;241m200\u001b[39m:\n\u001b[0;32m     13\u001b[0m     \u001b[38;5;28;01mif\u001b[39;00m response_status_code \u001b[38;5;241m>\u001b[39m\u001b[38;5;241m=\u001b[39m \u001b[38;5;241m400\u001b[39m \u001b[38;5;129;01mand\u001b[39;00m response_status_code \u001b[38;5;241m<\u001b[39m \u001b[38;5;241m500\u001b[39m:\n\u001b[1;32m---> 14\u001b[0m         \u001b[38;5;28;01mraise\u001b[39;00m \u001b[38;5;167;01mException\u001b[39;00m(\n\u001b[0;32m     15\u001b[0m             \u001b[38;5;124m\"\u001b[39m\u001b[38;5;124mCannot get data, the program will stop!\u001b[39m\u001b[38;5;130;01m\\n\u001b[39;00m\u001b[38;5;124mHTTP \u001b[39m\u001b[38;5;132;01m{}\u001b[39;00m\u001b[38;5;124m: \u001b[39m\u001b[38;5;132;01m{}\u001b[39;00m\u001b[38;5;124m\"\u001b[39m\u001b[38;5;241m.\u001b[39mformat(\n\u001b[0;32m     16\u001b[0m                 response_status_code, response\u001b[38;5;241m.\u001b[39mtext\n\u001b[0;32m     17\u001b[0m             )\n\u001b[0;32m     18\u001b[0m         )\n\u001b[0;32m     20\u001b[0m     sleep_seconds \u001b[38;5;241m=\u001b[39m random\u001b[38;5;241m.\u001b[39mrandint(\u001b[38;5;241m5\u001b[39m, \u001b[38;5;241m60\u001b[39m)\n\u001b[0;32m     21\u001b[0m     \u001b[38;5;28mprint\u001b[39m(\n\u001b[0;32m     22\u001b[0m         \u001b[38;5;124m\"\u001b[39m\u001b[38;5;124mCannot get data, your program will sleep for \u001b[39m\u001b[38;5;132;01m{}\u001b[39;00m\u001b[38;5;124m seconds...\u001b[39m\u001b[38;5;130;01m\\n\u001b[39;00m\u001b[38;5;124mHTTP \u001b[39m\u001b[38;5;132;01m{}\u001b[39;00m\u001b[38;5;124m: \u001b[39m\u001b[38;5;132;01m{}\u001b[39;00m\u001b[38;5;124m\"\u001b[39m\u001b[38;5;241m.\u001b[39mformat(\n\u001b[0;32m     23\u001b[0m             sleep_seconds, response_status_code, response\u001b[38;5;241m.\u001b[39mtext\n\u001b[0;32m     24\u001b[0m         )\n\u001b[0;32m     25\u001b[0m     )\n",
      "\u001b[1;31mException\u001b[0m: Cannot get data, the program will stop!\nHTTP 429: {\"title\":\"Too Many Requests\",\"detail\":\"Too Many Requests\",\"type\":\"about:blank\",\"status\":429}"
     ]
    }
   ],
   "source": [
    "tweets_data = pd.DataFrame()\n",
    "users_data = pd.DataFrame()\n",
    "\n",
    "for i in range(len(rules)):\n",
    "    query_parameters[\"query\"] = rules[i][\"value\"]\n",
    "    query_tag = rules[i][\"tag\"]\n",
    "\n",
    "    json_response = connect_to_endpoint(endpoint_url, headers, query_parameters)\n",
    "    tweets_data, users_data = process_twitter_data(\n",
    "        json_response, query_tag, tweets_data, users_data\n",
    "    )\n",
    "\n",
    "    time.sleep(20)\n",
    "\n",
    "    while \"next_token\" in json_response[\"meta\"]:\n",
    "        query_parameters[\"next_token\"] = json_response[\"meta\"][\"next_token\"]\n",
    "\n",
    "        json_response = connect_to_endpoint(endpoint_url, headers, query_parameters)\n",
    "        tweets_data, users_data = process_twitter_data(\n",
    "            json_response, query_tag, tweets_data, users_data\n",
    "        )\n",
    "\n",
    "        time.sleep(20)"
   ]
  },
  {
   "cell_type": "code",
   "execution_count": null,
   "metadata": {},
   "outputs": [],
   "source": [
    "json_response"
   ]
  },
  {
   "cell_type": "code",
   "execution_count": 39,
   "metadata": {},
   "outputs": [],
   "source": [
    "## ganti nama file\n",
    "\n",
    "with open('jsonresponse3.json', 'w') as fp: \n",
    "    json.dump(json_response, fp)"
   ]
  },
  {
   "cell_type": "code",
   "execution_count": 60,
   "metadata": {},
   "outputs": [],
   "source": [
    "resultdf = pd.DataFrame(columns=['id', 'edit_history_tweet_ids', 'created_at', 'text', 'author_id'])\n",
    "\n",
    "for i in range(len(json_response['data'])):\n",
    "    #print(json_response['data'][i])\n",
    "    insertdf = pd.DataFrame(json_response['data'][i])\n",
    "    resultdf = pd.concat([resultdf,insertdf])"
   ]
  },
  {
   "cell_type": "code",
   "execution_count": null,
   "metadata": {},
   "outputs": [],
   "source": [
    "resultdf"
   ]
  }
 ],
 "metadata": {
  "kernelspec": {
   "display_name": "mbgsentiment",
   "language": "python",
   "name": "python3"
  },
  "language_info": {
   "codemirror_mode": {
    "name": "ipython",
    "version": 3
   },
   "file_extension": ".py",
   "mimetype": "text/x-python",
   "name": "python",
   "nbconvert_exporter": "python",
   "pygments_lexer": "ipython3",
   "version": "3.12.8"
  }
 },
 "nbformat": 4,
 "nbformat_minor": 2
}
