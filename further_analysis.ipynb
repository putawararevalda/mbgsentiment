{
 "cells": [
  {
   "cell_type": "code",
   "execution_count": 1,
   "metadata": {},
   "outputs": [],
   "source": [
    "import pandas as pd\n",
    "import requests\n",
    "import json"
   ]
  },
  {
   "cell_type": "code",
   "execution_count": 2,
   "metadata": {},
   "outputs": [],
   "source": [
    "sentimentdf = pd.read_csv(r\"dataset/processed/processed_data_sentiment.csv\")"
   ]
  },
  {
   "cell_type": "code",
   "execution_count": 3,
   "metadata": {},
   "outputs": [
    {
     "data": {
      "text/html": [
       "<div>\n",
       "<style scoped>\n",
       "    .dataframe tbody tr th:only-of-type {\n",
       "        vertical-align: middle;\n",
       "    }\n",
       "\n",
       "    .dataframe tbody tr th {\n",
       "        vertical-align: top;\n",
       "    }\n",
       "\n",
       "    .dataframe thead th {\n",
       "        text-align: right;\n",
       "    }\n",
       "</style>\n",
       "<table border=\"1\" class=\"dataframe\">\n",
       "  <thead>\n",
       "    <tr style=\"text-align: right;\">\n",
       "      <th></th>\n",
       "      <th>Unnamed: 0.1</th>\n",
       "      <th>Unnamed: 0</th>\n",
       "      <th>id</th>\n",
       "      <th>edit_history_tweet_ids</th>\n",
       "      <th>created_at</th>\n",
       "      <th>text</th>\n",
       "      <th>author_id</th>\n",
       "      <th>text_cleaned</th>\n",
       "      <th>text_cleaned_stemmed</th>\n",
       "      <th>mdhugol_sentiment</th>\n",
       "      <th>mdhugol_sentiment_score</th>\n",
       "      <th>indobert_sentiment</th>\n",
       "      <th>indobert_sentiment_score</th>\n",
       "    </tr>\n",
       "  </thead>\n",
       "  <tbody>\n",
       "    <tr>\n",
       "      <th>0</th>\n",
       "      <td>0</td>\n",
       "      <td>0</td>\n",
       "      <td>1880655687866552831</td>\n",
       "      <td>1880655687866552831</td>\n",
       "      <td>2025-01-18T16:37:11.000Z</td>\n",
       "      <td>Ketua Umum PDIP Megawati Soekarnoputri sempat ...</td>\n",
       "      <td>917707622026928129</td>\n",
       "      <td>ketua umum pdip megawati soekarnoputri sempat ...</td>\n",
       "      <td>ketua umum pdip megawati soekarnoputri sempat ...</td>\n",
       "      <td>neutral</td>\n",
       "      <td>0.989232</td>\n",
       "      <td>Neutral</td>\n",
       "      <td>0.999553</td>\n",
       "    </tr>\n",
       "    <tr>\n",
       "      <th>1</th>\n",
       "      <td>1</td>\n",
       "      <td>1</td>\n",
       "      <td>1880655628819165446</td>\n",
       "      <td>1880655628819165446</td>\n",
       "      <td>2025-01-18T16:36:57.000Z</td>\n",
       "      <td>@HabilIsl Hold $WOWO dapat airdrop makan siang...</td>\n",
       "      <td>112500656</td>\n",
       "      <td>hold wowo dapat airdrop makansianggratis</td>\n",
       "      <td>hold wowo dapat airdrop makansianggratis</td>\n",
       "      <td>positive</td>\n",
       "      <td>0.912627</td>\n",
       "      <td>Neutral</td>\n",
       "      <td>0.999512</td>\n",
       "    </tr>\n",
       "    <tr>\n",
       "      <th>2</th>\n",
       "      <td>2</td>\n",
       "      <td>2</td>\n",
       "      <td>1880655540717842742</td>\n",
       "      <td>1880655540717842742</td>\n",
       "      <td>2025-01-18T16:36:36.000Z</td>\n",
       "      <td>KALAU MBG NYA INI GUE JUGA MAU DUT BIAR GUE MU...</td>\n",
       "      <td>1266052828742602752</td>\n",
       "      <td>kalau mbg nya ini gue juga mau dut biar gue mu...</td>\n",
       "      <td>kalau mbg nya ini gue juga mau dut biar gue mu...</td>\n",
       "      <td>negative</td>\n",
       "      <td>0.982285</td>\n",
       "      <td>Negative</td>\n",
       "      <td>0.999828</td>\n",
       "    </tr>\n",
       "    <tr>\n",
       "      <th>3</th>\n",
       "      <td>3</td>\n",
       "      <td>3</td>\n",
       "      <td>1880655480122651014</td>\n",
       "      <td>1880655480122651014</td>\n",
       "      <td>2025-01-18T16:36:22.000Z</td>\n",
       "      <td>@neohistoria_id program MBG tuh B nya Bersyuku...</td>\n",
       "      <td>1838116873331945472</td>\n",
       "      <td>program mbg tuh b nya bersyukur bukan bergizi</td>\n",
       "      <td>program mbg tuh b nya syukur bukan gizi</td>\n",
       "      <td>negative</td>\n",
       "      <td>0.985092</td>\n",
       "      <td>Negative</td>\n",
       "      <td>0.996238</td>\n",
       "    </tr>\n",
       "    <tr>\n",
       "      <th>4</th>\n",
       "      <td>4</td>\n",
       "      <td>4</td>\n",
       "      <td>1880655463207117137</td>\n",
       "      <td>1880655463207117137</td>\n",
       "      <td>2025-01-18T16:36:17.000Z</td>\n",
       "      <td>@03__nakula Ga semua anak Indonesia bisa makan...</td>\n",
       "      <td>1511016593353936896</td>\n",
       "      <td>enggak semua anak indonesia bisa makan siang ...</td>\n",
       "      <td>enggak semua anak indonesia bisa makan siang i...</td>\n",
       "      <td>negative</td>\n",
       "      <td>0.990175</td>\n",
       "      <td>Neutral</td>\n",
       "      <td>0.564391</td>\n",
       "    </tr>\n",
       "  </tbody>\n",
       "</table>\n",
       "</div>"
      ],
      "text/plain": [
       "   Unnamed: 0.1  Unnamed: 0                   id  edit_history_tweet_ids  \\\n",
       "0             0           0  1880655687866552831     1880655687866552831   \n",
       "1             1           1  1880655628819165446     1880655628819165446   \n",
       "2             2           2  1880655540717842742     1880655540717842742   \n",
       "3             3           3  1880655480122651014     1880655480122651014   \n",
       "4             4           4  1880655463207117137     1880655463207117137   \n",
       "\n",
       "                 created_at  \\\n",
       "0  2025-01-18T16:37:11.000Z   \n",
       "1  2025-01-18T16:36:57.000Z   \n",
       "2  2025-01-18T16:36:36.000Z   \n",
       "3  2025-01-18T16:36:22.000Z   \n",
       "4  2025-01-18T16:36:17.000Z   \n",
       "\n",
       "                                                text            author_id  \\\n",
       "0  Ketua Umum PDIP Megawati Soekarnoputri sempat ...   917707622026928129   \n",
       "1  @HabilIsl Hold $WOWO dapat airdrop makan siang...            112500656   \n",
       "2  KALAU MBG NYA INI GUE JUGA MAU DUT BIAR GUE MU...  1266052828742602752   \n",
       "3  @neohistoria_id program MBG tuh B nya Bersyuku...  1838116873331945472   \n",
       "4  @03__nakula Ga semua anak Indonesia bisa makan...  1511016593353936896   \n",
       "\n",
       "                                        text_cleaned  \\\n",
       "0  ketua umum pdip megawati soekarnoputri sempat ...   \n",
       "1           hold wowo dapat airdrop makansianggratis   \n",
       "2  kalau mbg nya ini gue juga mau dut biar gue mu...   \n",
       "3     program mbg tuh b nya bersyukur bukan bergizi    \n",
       "4   enggak semua anak indonesia bisa makan siang ...   \n",
       "\n",
       "                                text_cleaned_stemmed mdhugol_sentiment  \\\n",
       "0  ketua umum pdip megawati soekarnoputri sempat ...           neutral   \n",
       "1           hold wowo dapat airdrop makansianggratis          positive   \n",
       "2  kalau mbg nya ini gue juga mau dut biar gue mu...          negative   \n",
       "3            program mbg tuh b nya syukur bukan gizi          negative   \n",
       "4  enggak semua anak indonesia bisa makan siang i...          negative   \n",
       "\n",
       "   mdhugol_sentiment_score indobert_sentiment  indobert_sentiment_score  \n",
       "0                 0.989232            Neutral                  0.999553  \n",
       "1                 0.912627            Neutral                  0.999512  \n",
       "2                 0.982285           Negative                  0.999828  \n",
       "3                 0.985092           Negative                  0.996238  \n",
       "4                 0.990175            Neutral                  0.564391  "
      ]
     },
     "execution_count": 3,
     "metadata": {},
     "output_type": "execute_result"
    }
   ],
   "source": [
    "sentimentdf.head()"
   ]
  },
  {
   "cell_type": "code",
   "execution_count": 31,
   "metadata": {},
   "outputs": [
    {
     "name": "stdout",
     "output_type": "stream",
     "text": [
      " program mbg tuh b nya bersyukur bukan bergizi \n"
     ]
    }
   ],
   "source": [
    "masukan = sentimentdf.at[3,\"text_cleaned\"]\n",
    "print(masukan)\n",
    "\n",
    "headers = {\n",
    "    'Content-Type': 'application/json',\n",
    "}\n",
    "\n",
    "json_data = {\n",
    "    'model': 'llama3.2:3b',\n",
    "    'messages': [\n",
    "        {\n",
    "            'role': 'system',\n",
    "            'content': 'You are an intelligent aspect classifier bot. You are useful in helping the human classify a sentence or multiple sentences into the categories that they have listed.',\n",
    "        },\n",
    "        {\n",
    "            'role': 'user',\n",
    "            'content': 'Sentence : {}\\nTarget categories : [\"pelaksanaan\",\"kualitas makanan\",\"anggaran\"]. Answer in english, by only mentioning the category result from you.'.format(masukan),\n",
    "        },\n",
    "    ],\n",
    "    'stream': False,\n",
    "}\n",
    "\n",
    "response = requests.post('http://localhost:11435/api/chat', headers=headers, json=json_data)"
   ]
  },
  {
   "cell_type": "code",
   "execution_count": 32,
   "metadata": {},
   "outputs": [
    {
     "name": "stdout",
     "output_type": "stream",
     "text": [
      "The sentence \"program mbg tuh b nya bersyukur bukan bergizi\" has been classified into the following category:\n",
      "\n",
      "[\"kualitas makanan\"]\n"
     ]
    }
   ],
   "source": [
    "print(json.loads(response.text)[\"message\"][\"content\"])"
   ]
  },
  {
   "cell_type": "code",
   "execution_count": null,
   "metadata": {},
   "outputs": [],
   "source": []
  }
 ],
 "metadata": {
  "kernelspec": {
   "display_name": "mbgsentiment",
   "language": "python",
   "name": "python3"
  },
  "language_info": {
   "codemirror_mode": {
    "name": "ipython",
    "version": 3
   },
   "file_extension": ".py",
   "mimetype": "text/x-python",
   "name": "python",
   "nbconvert_exporter": "python",
   "pygments_lexer": "ipython3",
   "version": "3.12.8"
  }
 },
 "nbformat": 4,
 "nbformat_minor": 2
}
