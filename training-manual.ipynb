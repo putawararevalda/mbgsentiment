{
 "cells": [
  {
   "cell_type": "code",
   "execution_count": 1,
   "metadata": {},
   "outputs": [
    {
     "name": "stderr",
     "output_type": "stream",
     "text": [
      "c:\\Users\\Revalda Putawara\\.conda\\envs\\mbgsentiment\\Lib\\site-packages\\tqdm\\auto.py:21: TqdmWarning: IProgress not found. Please update jupyter and ipywidgets. See https://ipywidgets.readthedocs.io/en/stable/user_install.html\n",
      "  from .autonotebook import tqdm as notebook_tqdm\n"
     ]
    }
   ],
   "source": [
    "from sklearn.metrics import confusion_matrix, classification_report\n",
    "from sklearn.model_selection import train_test_split\n",
    "from transformers import AutoModelForSequenceClassification\n",
    "from transformers import TrainingArguments\n",
    "from transformers import Trainer\n",
    "from transformers import TrainerCallback\n",
    "from datasets import load_dataset\n",
    "from transformers import AutoTokenizer\n",
    "from datetime import datetime\n",
    "\n",
    "from copy import deepcopy\n",
    "import matplotlib.pyplot as plt\n",
    "import seaborn as sns\n",
    "import pandas as pd\n",
    "import numpy as np\n",
    "import evaluate\n",
    "import json\n",
    "\n",
    "import torch\n",
    "torch.cuda.empty_cache()\n"
   ]
  },
  {
   "cell_type": "code",
   "execution_count": 2,
   "metadata": {},
   "outputs": [
    {
     "data": {
      "text/plain": [
       "'cuda:0'"
      ]
     },
     "execution_count": 2,
     "metadata": {},
     "output_type": "execute_result"
    }
   ],
   "source": [
    "device = \"cuda:0\" if torch.cuda.is_available() else \"cpu\"\n",
    "device"
   ]
  },
  {
   "cell_type": "code",
   "execution_count": 3,
   "metadata": {},
   "outputs": [],
   "source": [
    "files = {\n",
    "    \"train\": r\"dataset/train/train.csv\", \n",
    "    \"eval\": r\"dataset/train/eval.csv\", \n",
    "    \"test\": r\"dataset/train/test.csv\",\n",
    "}\n",
    "\n",
    "dataset = load_dataset('csv', data_files=files)"
   ]
  },
  {
   "cell_type": "markdown",
   "metadata": {},
   "source": [
    "## Tokenizer and Model load"
   ]
  },
  {
   "cell_type": "code",
   "execution_count": null,
   "metadata": {},
   "outputs": [],
   "source": [
    "#\"indolem/indobert-base-uncased\" ==> can't predict class 1\n",
    "\n",
    "#indolem/indobert-base-uncased\n",
    "#ayameRushia/bert-base-indonesian-1.5G-sentiment-analysis-smsa\n",
    "#cahya/bert-base-indonesian-522M\n",
    "#google-bert/bert-base-uncased\n",
    "\n",
    "# key value pair. key will be supplied to model_choice variable\n",
    "model_name = {\"indobert_base\":\"indobenchmark/indobert-base-p2\",\n",
    "              \"indobert_large\":\"indobenchmark/indobert-large-p2\",\n",
    "              \"ayamerushia\":\"ayameRushia/bert-base-indonesian-1.5G-sentiment-analysis-smsa\",\n",
    "              \"cahya\":\"cahya/bert-base-indonesian-522M\",\n",
    "              \"google-bert\":\"google-bert/bert-base-uncased\"}"
   ]
  },
  {
   "cell_type": "code",
   "execution_count": null,
   "metadata": {},
   "outputs": [
    {
     "name": "stdout",
     "output_type": "stream",
     "text": [
      "cahya_250209-234327\n"
     ]
    }
   ],
   "source": [
    "NUMEPOCHTRAIN = 10\n",
    "model_choice = \"indobert_large\"\n",
    "model_serial = model_choice + \"_\" + datetime.strftime(datetime.now(),format=\"%y%m%d-%H%M%S\")\n",
    "\n",
    "print(model_serial)"
   ]
  },
  {
   "cell_type": "code",
   "execution_count": null,
   "metadata": {},
   "outputs": [],
   "source": [
    "#model_serial = \"indobert_base_250209-200104\"\n",
    "#print(model_serial)"
   ]
  },
  {
   "cell_type": "code",
   "execution_count": 6,
   "metadata": {},
   "outputs": [],
   "source": [
    "tokenizer = AutoTokenizer.from_pretrained(model_name[model_choice])"
   ]
  },
  {
   "cell_type": "code",
   "execution_count": 7,
   "metadata": {},
   "outputs": [
    {
     "name": "stderr",
     "output_type": "stream",
     "text": [
      "Map: 100%|██████████| 3624/3624 [00:00<00:00, 9023.86 examples/s]\n",
      "Map: 100%|██████████| 815/815 [00:00<00:00, 8352.72 examples/s]\n",
      "Map: 100%|██████████| 91/91 [00:00<00:00, 3126.82 examples/s]\n"
     ]
    }
   ],
   "source": [
    "def tokenize_function(text):\n",
    "    return tokenizer(text[\"text\"], padding='max_length', max_length=256)\n",
    "\n",
    "tokenized_datasets = dataset.map(tokenize_function, batched=True)"
   ]
  },
  {
   "cell_type": "code",
   "execution_count": 8,
   "metadata": {},
   "outputs": [],
   "source": [
    "train_dataset = tokenized_datasets[\"train\"]\n",
    "eval_dataset = tokenized_datasets[\"eval\"]"
   ]
  },
  {
   "cell_type": "code",
   "execution_count": 9,
   "metadata": {},
   "outputs": [
    {
     "name": "stderr",
     "output_type": "stream",
     "text": [
      "Some weights of BertForSequenceClassification were not initialized from the model checkpoint at cahya/bert-base-indonesian-522M and are newly initialized: ['classifier.bias', 'classifier.weight']\n",
      "You should probably TRAIN this model on a down-stream task to be able to use it for predictions and inference.\n"
     ]
    }
   ],
   "source": [
    "model = AutoModelForSequenceClassification.from_pretrained(model_name[model_choice], \n",
    "                                                           num_labels=3,\n",
    "                                                           hidden_dropout_prob=0.3, \n",
    "                                                           attention_probs_dropout_prob=0.3\n",
    "                                                           )"
   ]
  },
  {
   "cell_type": "code",
   "execution_count": 10,
   "metadata": {},
   "outputs": [
    {
     "name": "stderr",
     "output_type": "stream",
     "text": [
      "C:\\Users\\Revalda Putawara\\AppData\\Roaming\\Python\\Python312\\site-packages\\transformers\\training_args.py:1575: FutureWarning: `evaluation_strategy` is deprecated and will be removed in version 4.46 of 🤗 Transformers. Use `eval_strategy` instead\n",
      "  warnings.warn(\n"
     ]
    }
   ],
   "source": [
    "training_args = TrainingArguments(\n",
    "    \"test_trainer_\"+model_serial, \n",
    "    per_device_train_batch_size=4, #no effect on training time\n",
    "    per_device_eval_batch_size=4, # no effect on training time\n",
    "    num_train_epochs=NUMEPOCHTRAIN,\n",
    "    #label_names=[\"label\"],\n",
    "    logging_strategy=\"epoch\",\n",
    "    evaluation_strategy=\"epoch\",\n",
    "    metric_for_best_model=\"eval_loss\", \n",
    "    greater_is_better=False,\n",
    "    save_total_limit = 2,\n",
    "    load_best_model_at_end=False,\n",
    "    save_strategy = \"epoch\",\n",
    "    #save_strategy = \"no\",\n",
    "    #report_to=\"tensorboard\"\n",
    ")"
   ]
  },
  {
   "cell_type": "code",
   "execution_count": 11,
   "metadata": {},
   "outputs": [],
   "source": [
    "accuracy = evaluate.load(\"accuracy\")"
   ]
  },
  {
   "cell_type": "code",
   "execution_count": 12,
   "metadata": {},
   "outputs": [],
   "source": [
    "def compute_metrics(eval_pred):\n",
    "    logits, labels = eval_pred\n",
    "    predictions = np.argmax(logits, axis=-1)\n",
    "\n",
    "    return accuracy.compute(predictions=predictions, references=labels)"
   ]
  },
  {
   "cell_type": "code",
   "execution_count": 13,
   "metadata": {},
   "outputs": [],
   "source": [
    "f1_metric = evaluate.load(\"f1\")\n",
    "\n",
    "def compute_f1(eval_pred):\n",
    "    logits, labels = eval_pred\n",
    "    predictions = np.argmax(logits, axis=-1)\n",
    "\n",
    "    return f1_metric.compute(predictions=predictions, references=labels)"
   ]
  },
  {
   "cell_type": "code",
   "execution_count": null,
   "metadata": {},
   "outputs": [],
   "source": []
  },
  {
   "cell_type": "code",
   "execution_count": null,
   "metadata": {},
   "outputs": [],
   "source": [
    "class CustomCallback(TrainerCallback):\n",
    "    \n",
    "    def __init__(self, trainer) -> None:\n",
    "        super().__init__()\n",
    "        self._trainer = trainer\n",
    "    \n",
    "    def on_epoch_end(self, args, state, control, **kwargs):\n",
    "        if control.should_evaluate:\n",
    "            control_copy = deepcopy(control)\n",
    "            self._trainer.evaluate(eval_dataset=self._trainer.train_dataset, metric_key_prefix=\"train\")\n",
    "            return control_copy"
   ]
  },
  {
   "cell_type": "markdown",
   "metadata": {},
   "source": [
    "## Start Training"
   ]
  },
  {
   "cell_type": "code",
   "execution_count": null,
   "metadata": {},
   "outputs": [],
   "source": [
    "# Start TensorBoard before training to monitor it in progress\n",
    "#%load_ext tensorboard\n",
    "#%tensorboard --logdir '{model_output_dir}'/runs"
   ]
  },
  {
   "cell_type": "code",
   "execution_count": 14,
   "metadata": {},
   "outputs": [
    {
     "data": {
      "text/html": [
       "\n",
       "    <div>\n",
       "      \n",
       "      <progress value='9060' max='9060' style='width:300px; height:20px; vertical-align: middle;'></progress>\n",
       "      [9060/9060 48:38, Epoch 10/10]\n",
       "    </div>\n",
       "    <table border=\"1\" class=\"dataframe\">\n",
       "  <thead>\n",
       " <tr style=\"text-align: left;\">\n",
       "      <th>Epoch</th>\n",
       "      <th>Training Loss</th>\n",
       "      <th>Validation Loss</th>\n",
       "      <th>Accuracy</th>\n",
       "    </tr>\n",
       "  </thead>\n",
       "  <tbody>\n",
       "    <tr>\n",
       "      <td>1</td>\n",
       "      <td>0.728500</td>\n",
       "      <td>0.834459</td>\n",
       "      <td>0.766871</td>\n",
       "    </tr>\n",
       "    <tr>\n",
       "      <td>2</td>\n",
       "      <td>0.634900</td>\n",
       "      <td>0.873982</td>\n",
       "      <td>0.800000</td>\n",
       "    </tr>\n",
       "    <tr>\n",
       "      <td>3</td>\n",
       "      <td>0.601400</td>\n",
       "      <td>0.595752</td>\n",
       "      <td>0.813497</td>\n",
       "    </tr>\n",
       "    <tr>\n",
       "      <td>4</td>\n",
       "      <td>0.538300</td>\n",
       "      <td>0.871504</td>\n",
       "      <td>0.813497</td>\n",
       "    </tr>\n",
       "    <tr>\n",
       "      <td>5</td>\n",
       "      <td>0.482800</td>\n",
       "      <td>0.786449</td>\n",
       "      <td>0.812270</td>\n",
       "    </tr>\n",
       "    <tr>\n",
       "      <td>6</td>\n",
       "      <td>0.413000</td>\n",
       "      <td>1.001137</td>\n",
       "      <td>0.812270</td>\n",
       "    </tr>\n",
       "    <tr>\n",
       "      <td>7</td>\n",
       "      <td>0.367400</td>\n",
       "      <td>0.897692</td>\n",
       "      <td>0.809816</td>\n",
       "    </tr>\n",
       "    <tr>\n",
       "      <td>8</td>\n",
       "      <td>0.302700</td>\n",
       "      <td>0.994103</td>\n",
       "      <td>0.824540</td>\n",
       "    </tr>\n",
       "    <tr>\n",
       "      <td>9</td>\n",
       "      <td>0.275100</td>\n",
       "      <td>0.954106</td>\n",
       "      <td>0.818405</td>\n",
       "    </tr>\n",
       "    <tr>\n",
       "      <td>10</td>\n",
       "      <td>0.246500</td>\n",
       "      <td>1.050901</td>\n",
       "      <td>0.818405</td>\n",
       "    </tr>\n",
       "  </tbody>\n",
       "</table><p>"
      ],
      "text/plain": [
       "<IPython.core.display.HTML object>"
      ]
     },
     "metadata": {},
     "output_type": "display_data"
    }
   ],
   "source": [
    "torch.cuda.empty_cache()\n",
    "\n",
    "trainer = Trainer(\n",
    "    model=model,\n",
    "    args=training_args,\n",
    "    train_dataset=train_dataset,\n",
    "    eval_dataset=eval_dataset,\n",
    "    compute_metrics=compute_metrics,\n",
    ")\n",
    "\n",
    "#trainer.add_callback(CustomCallback(trainer))\n",
    "\n",
    "training_history = trainer.train()"
   ]
  },
  {
   "cell_type": "code",
   "execution_count": null,
   "metadata": {},
   "outputs": [],
   "source": [
    "#checkpoint_path = \"test_trainer_indobert_base_250209-200104\\checkpoint-4530\"  # Replace XXXXX with the latest step number\n",
    "\n",
    "# Resume training\n",
    "#training_history  = trainer.train(resume_from_checkpoint=checkpoint_path)"
   ]
  },
  {
   "cell_type": "code",
   "execution_count": 15,
   "metadata": {},
   "outputs": [],
   "source": [
    "# After training, access the path of the best checkpoint like this\n",
    "best_ckpt_path = trainer.state.best_model_checkpoint"
   ]
  },
  {
   "cell_type": "code",
   "execution_count": 16,
   "metadata": {},
   "outputs": [
    {
     "data": {
      "text/plain": [
       "'test_trainer_cahya_250209-234327\\\\checkpoint-2718'"
      ]
     },
     "execution_count": 16,
     "metadata": {},
     "output_type": "execute_result"
    }
   ],
   "source": [
    "best_ckpt_path"
   ]
  },
  {
   "cell_type": "code",
   "execution_count": 17,
   "metadata": {},
   "outputs": [],
   "source": [
    "#trainer.evaluate()"
   ]
  },
  {
   "cell_type": "code",
   "execution_count": 18,
   "metadata": {},
   "outputs": [
    {
     "data": {
      "text/plain": [
       "[{'loss': 0.7285,\n",
       "  'grad_norm': 3.26184344291687,\n",
       "  'learning_rate': 4.5e-05,\n",
       "  'epoch': 1.0,\n",
       "  'step': 906},\n",
       " {'eval_loss': 0.834459125995636,\n",
       "  'eval_accuracy': 0.7668711656441718,\n",
       "  'eval_runtime': 17.7331,\n",
       "  'eval_samples_per_second': 45.959,\n",
       "  'eval_steps_per_second': 11.504,\n",
       "  'epoch': 1.0,\n",
       "  'step': 906},\n",
       " {'loss': 0.6349,\n",
       "  'grad_norm': 0.7301170825958252,\n",
       "  'learning_rate': 4e-05,\n",
       "  'epoch': 2.0,\n",
       "  'step': 1812},\n",
       " {'eval_loss': 0.8739816546440125,\n",
       "  'eval_accuracy': 0.8,\n",
       "  'eval_runtime': 16.8049,\n",
       "  'eval_samples_per_second': 48.498,\n",
       "  'eval_steps_per_second': 12.139,\n",
       "  'epoch': 2.0,\n",
       "  'step': 1812},\n",
       " {'loss': 0.6014,\n",
       "  'grad_norm': 4.377902030944824,\n",
       "  'learning_rate': 3.5e-05,\n",
       "  'epoch': 3.0,\n",
       "  'step': 2718},\n",
       " {'eval_loss': 0.5957515239715576,\n",
       "  'eval_accuracy': 0.8134969325153374,\n",
       "  'eval_runtime': 17.2277,\n",
       "  'eval_samples_per_second': 47.308,\n",
       "  'eval_steps_per_second': 11.841,\n",
       "  'epoch': 3.0,\n",
       "  'step': 2718},\n",
       " {'loss': 0.5383,\n",
       "  'grad_norm': 14.53256607055664,\n",
       "  'learning_rate': 3e-05,\n",
       "  'epoch': 4.0,\n",
       "  'step': 3624},\n",
       " {'eval_loss': 0.8715042471885681,\n",
       "  'eval_accuracy': 0.8134969325153374,\n",
       "  'eval_runtime': 16.9819,\n",
       "  'eval_samples_per_second': 47.992,\n",
       "  'eval_steps_per_second': 12.013,\n",
       "  'epoch': 4.0,\n",
       "  'step': 3624},\n",
       " {'loss': 0.4828,\n",
       "  'grad_norm': 0.5588350296020508,\n",
       "  'learning_rate': 2.5e-05,\n",
       "  'epoch': 5.0,\n",
       "  'step': 4530},\n",
       " {'eval_loss': 0.7864488363265991,\n",
       "  'eval_accuracy': 0.8122699386503067,\n",
       "  'eval_runtime': 17.1125,\n",
       "  'eval_samples_per_second': 47.626,\n",
       "  'eval_steps_per_second': 11.921,\n",
       "  'epoch': 5.0,\n",
       "  'step': 4530},\n",
       " {'loss': 0.413,\n",
       "  'grad_norm': 0.051374029368162155,\n",
       "  'learning_rate': 2e-05,\n",
       "  'epoch': 6.0,\n",
       "  'step': 5436},\n",
       " {'eval_loss': 1.0011365413665771,\n",
       "  'eval_accuracy': 0.8122699386503067,\n",
       "  'eval_runtime': 16.5011,\n",
       "  'eval_samples_per_second': 49.391,\n",
       "  'eval_steps_per_second': 12.363,\n",
       "  'epoch': 6.0,\n",
       "  'step': 5436},\n",
       " {'loss': 0.3674,\n",
       "  'grad_norm': 0.28650543093681335,\n",
       "  'learning_rate': 1.5e-05,\n",
       "  'epoch': 7.0,\n",
       "  'step': 6342},\n",
       " {'eval_loss': 0.8976924419403076,\n",
       "  'eval_accuracy': 0.8098159509202454,\n",
       "  'eval_runtime': 17.3057,\n",
       "  'eval_samples_per_second': 47.094,\n",
       "  'eval_steps_per_second': 11.788,\n",
       "  'epoch': 7.0,\n",
       "  'step': 6342},\n",
       " {'loss': 0.3027,\n",
       "  'grad_norm': 0.041480451822280884,\n",
       "  'learning_rate': 1e-05,\n",
       "  'epoch': 8.0,\n",
       "  'step': 7248},\n",
       " {'eval_loss': 0.9941027760505676,\n",
       "  'eval_accuracy': 0.8245398773006135,\n",
       "  'eval_runtime': 17.0795,\n",
       "  'eval_samples_per_second': 47.718,\n",
       "  'eval_steps_per_second': 11.944,\n",
       "  'epoch': 8.0,\n",
       "  'step': 7248},\n",
       " {'loss': 0.2751,\n",
       "  'grad_norm': 1.9172662496566772,\n",
       "  'learning_rate': 5e-06,\n",
       "  'epoch': 9.0,\n",
       "  'step': 8154},\n",
       " {'eval_loss': 0.954106330871582,\n",
       "  'eval_accuracy': 0.8184049079754602,\n",
       "  'eval_runtime': 16.7432,\n",
       "  'eval_samples_per_second': 48.676,\n",
       "  'eval_steps_per_second': 12.184,\n",
       "  'epoch': 9.0,\n",
       "  'step': 8154},\n",
       " {'loss': 0.2465,\n",
       "  'grad_norm': 0.0883527398109436,\n",
       "  'learning_rate': 0.0,\n",
       "  'epoch': 10.0,\n",
       "  'step': 9060},\n",
       " {'eval_loss': 1.050901174545288,\n",
       "  'eval_accuracy': 0.8184049079754602,\n",
       "  'eval_runtime': 21.8005,\n",
       "  'eval_samples_per_second': 37.385,\n",
       "  'eval_steps_per_second': 9.358,\n",
       "  'epoch': 10.0,\n",
       "  'step': 9060},\n",
       " {'train_runtime': 2919.3619,\n",
       "  'train_samples_per_second': 12.414,\n",
       "  'train_steps_per_second': 3.103,\n",
       "  'total_flos': 4767615129231360.0,\n",
       "  'train_loss': 0.45904926358995585,\n",
       "  'epoch': 10.0,\n",
       "  'step': 9060}]"
      ]
     },
     "execution_count": 18,
     "metadata": {},
     "output_type": "execute_result"
    }
   ],
   "source": [
    "trainer.state.log_history"
   ]
  },
  {
   "cell_type": "code",
   "execution_count": 19,
   "metadata": {},
   "outputs": [],
   "source": [
    "epochs = []\n",
    "steps = []\n",
    "losses = []\n",
    "val_losses = []\n",
    "\n",
    "for log in trainer.state.log_history:\n",
    "    if \"eval_loss\" in log: \n",
    "        epochs.append(log[\"epoch\"])\n",
    "        #losses.append(log[\"loss\"])\n",
    "        val_losses.append(log[\"eval_loss\"])\n",
    "    if \"loss\" in log: \n",
    "        #steps.append(log[\"epoch\"])\n",
    "        #losses.append(log[\"loss\"])\n",
    "        losses.append(log[\"loss\"])"
   ]
  },
  {
   "cell_type": "code",
   "execution_count": 20,
   "metadata": {},
   "outputs": [
    {
     "data": {
      "image/png": "[encoded data removed]",
      "text/plain": [
       "<Figure size 1000x500 with 1 Axes>"
      ]
     },
     "metadata": {},
     "output_type": "display_data"
    }
   ],
   "source": [
    "plt.figure(figsize=(10, 5))\n",
    "plt.plot(epochs, losses, label=\"training loss\")\n",
    "plt.plot(epochs, val_losses, label=\"validation loss\")\n",
    "plt.xlabel(\"Epochs\")\n",
    "plt.ylabel(\"Loss\")\n",
    "plt.title(\"Training Loss over Epochs\")\n",
    "plt.legend()\n",
    "plt.grid()\n",
    "plt.show()"
   ]
  },
  {
   "cell_type": "code",
   "execution_count": 21,
   "metadata": {},
   "outputs": [],
   "source": [
    "model.save_pretrained(\"model_\"+model_serial)"
   ]
  },
  {
   "cell_type": "markdown",
   "metadata": {},
   "source": [
    "## Evaluation"
   ]
  },
  {
   "cell_type": "code",
   "execution_count": 22,
   "metadata": {},
   "outputs": [
    {
     "data": {
      "text/html": [],
      "text/plain": [
       "<IPython.core.display.HTML object>"
      ]
     },
     "metadata": {},
     "output_type": "display_data"
    }
   ],
   "source": [
    "test_dataset = tokenized_datasets[\"test\"]\n",
    "\n",
    "prediction = trainer.predict(test_dataset)\n",
    "prediction = prediction.predictions.argmax(1)"
   ]
  },
  {
   "cell_type": "code",
   "execution_count": 23,
   "metadata": {},
   "outputs": [],
   "source": [
    "pd.DataFrame(prediction).to_csv(r\"result_prediction/prediction_\"+model_serial+'.csv',index=False)"
   ]
  },
  {
   "cell_type": "code",
   "execution_count": 24,
   "metadata": {},
   "outputs": [],
   "source": [
    "df_test=pd.read_csv(r\"dataset/train/test.csv\")\n",
    "actual_label = df_test['label']"
   ]
  },
  {
   "cell_type": "code",
   "execution_count": 25,
   "metadata": {},
   "outputs": [
    {
     "name": "stdout",
     "output_type": "stream",
     "text": [
      "              precision    recall  f1-score   support\n",
      "\n",
      "     Negatif       0.88      0.82      0.85        34\n",
      "      Netral       0.46      0.55      0.50        11\n",
      "     Positif       0.93      0.93      0.93        46\n",
      "\n",
      "    accuracy                           0.85        91\n",
      "   macro avg       0.76      0.77      0.76        91\n",
      "weighted avg       0.86      0.85      0.85        91\n",
      "\n"
     ]
    }
   ],
   "source": [
    "print(classification_report(prediction, actual_label, target_names=[\"Negatif\", \"Netral\", \"Positif\"]))"
   ]
  },
  {
   "cell_type": "code",
   "execution_count": 26,
   "metadata": {},
   "outputs": [
    {
     "data": {
      "image/png": "[encoded data removed]",
      "text/plain": [
       "<Figure size 640x480 with 2 Axes>"
      ]
     },
     "metadata": {},
     "output_type": "display_data"
    }
   ],
   "source": [
    "def show_confusion_matrix(confusion_matrix):\n",
    "        hmap = sns.heatmap(confusion_matrix, annot=True, fmt=\"d\", cmap=\"Blues\")\n",
    "        hmap.yaxis.set_ticklabels(hmap.yaxis.get_ticklabels(), rotation=0, ha='right')\n",
    "        hmap.xaxis.set_ticklabels(hmap.xaxis.get_ticklabels(), rotation=30, ha='right')\n",
    "\n",
    "        plt.ylabel('True Label')\n",
    "        plt.xlabel('Predicted Label')\n",
    "\n",
    "cm = confusion_matrix(prediction, actual_label)\n",
    "show_confusion_matrix(cm)"
   ]
  },
  {
   "cell_type": "code",
   "execution_count": 27,
   "metadata": {},
   "outputs": [
    {
     "data": {
      "text/plain": [
       "{'f1': 0.8423243423243424}"
      ]
     },
     "execution_count": 27,
     "metadata": {},
     "output_type": "execute_result"
    }
   ],
   "source": [
    "f1_metric.compute(predictions=prediction, references=actual_label, average=\"weighted\")"
   ]
  },
  {
   "cell_type": "code",
   "execution_count": null,
   "metadata": {},
   "outputs": [],
   "source": []
  },
  {
   "cell_type": "markdown",
   "metadata": {},
   "source": [
    "## Save Training Result"
   ]
  },
  {
   "cell_type": "code",
   "execution_count": 28,
   "metadata": {},
   "outputs": [],
   "source": [
    "save_dict = {}\n",
    "save_dict[\"trainer_history\"] = trainer.state.log_history\n",
    "save_dict[\"trainer_args\"] = trainer.args.to_dict()\n",
    "save_dict[\"trainer_model_config\"] = trainer.model.config.to_dict()"
   ]
  },
  {
   "cell_type": "code",
   "execution_count": 29,
   "metadata": {},
   "outputs": [],
   "source": [
    "with open(r\"result_model/result_\"+model_serial+'.json', 'w', encoding='utf-8') as f:\n",
    "    json.dump(save_dict, f, ensure_ascii=False, indent=4)"
   ]
  },
  {
   "cell_type": "code",
   "execution_count": 30,
   "metadata": {},
   "outputs": [
    {
     "data": {
      "text/plain": [
       "'cahya_250209-234327'"
      ]
     },
     "execution_count": 30,
     "metadata": {},
     "output_type": "execute_result"
    }
   ],
   "source": [
    "model_serial"
   ]
  },
  {
   "cell_type": "code",
   "execution_count": null,
   "metadata": {},
   "outputs": [],
   "source": []
  }
 ],
 "metadata": {
  "kernelspec": {
   "display_name": "Python 3",
   "language": "python",
   "name": "python3"
  },
  "language_info": {
   "codemirror_mode": {
    "name": "ipython",
    "version": 3
   },
   "file_extension": ".py",
   "mimetype": "text/x-python",
   "name": "python",
   "nbconvert_exporter": "python",
   "pygments_lexer": "ipython3",
   "version": "3.12.8"
  }
 },
 "nbformat": 4,
 "nbformat_minor": 2
}
