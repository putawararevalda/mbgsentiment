{
 "cells": [
  {
   "cell_type": "code",
   "execution_count": 1,
   "metadata": {},
   "outputs": [
    {
     "name": "stderr",
     "output_type": "stream",
     "text": [
      "c:\\Users\\Revalda Putawara\\.conda\\envs\\mbgsentiment\\Lib\\site-packages\\tqdm\\auto.py:21: TqdmWarning: IProgress not found. Please update jupyter and ipywidgets. See https://ipywidgets.readthedocs.io/en/stable/user_install.html\n",
      "  from .autonotebook import tqdm as notebook_tqdm\n"
     ]
    }
   ],
   "source": [
    "from sklearn.metrics import confusion_matrix, classification_report\n",
    "from sklearn.model_selection import train_test_split\n",
    "from transformers import AutoModelForSequenceClassification\n",
    "from transformers import TrainingArguments\n",
    "from transformers import Trainer\n",
    "from datasets import load_dataset\n",
    "from transformers import AutoTokenizer\n",
    "from datetime import datetime\n",
    "\n",
    "import matplotlib.pyplot as plt\n",
    "import seaborn as sns\n",
    "import pandas as pd\n",
    "import numpy as np\n",
    "import evaluate\n",
    "import json\n",
    "\n",
    "import torch\n",
    "torch.cuda.empty_cache()\n"
   ]
  },
  {
   "cell_type": "code",
   "execution_count": 2,
   "metadata": {},
   "outputs": [
    {
     "data": {
      "text/plain": [
       "'cuda:0'"
      ]
     },
     "execution_count": 2,
     "metadata": {},
     "output_type": "execute_result"
    }
   ],
   "source": [
    "device = \"cuda:0\" if torch.cuda.is_available() else \"cpu\"\n",
    "device"
   ]
  },
  {
   "cell_type": "code",
   "execution_count": 3,
   "metadata": {},
   "outputs": [],
   "source": [
    "files = {\n",
    "    \"train\": r\"dataset/train/train.csv\", \n",
    "    \"eval\": r\"dataset/train/eval.csv\", \n",
    "    \"test\": r\"dataset/train/test.csv\",\n",
    "}\n",
    "\n",
    "dataset = load_dataset('csv', data_files=files)"
   ]
  },
  {
   "cell_type": "markdown",
   "metadata": {},
   "source": [
    "## Tokenizer and Model load"
   ]
  },
  {
   "cell_type": "code",
   "execution_count": 4,
   "metadata": {},
   "outputs": [],
   "source": [
    "#\"indolem/indobert-base-uncased\" ==> can't predict class 1\n",
    "\n",
    "#indolem/indobert-base-uncased\n",
    "#ayameRushia/bert-base-indonesian-1.5G-sentiment-analysis-smsa\n",
    "#cahya/bert-base-indonesian-522M\n",
    "#google-bert/bert-base-uncased\n",
    "\n",
    "# key value pair. key will be supplied to model_choice variable\n",
    "model_name = {\"indobert_base\":\"indobenchmark/indobert-base-p2\",\n",
    "              \"ayamerushia\":\"ayameRushia/bert-base-indonesian-1.5G-sentiment-analysis-smsa\",\n",
    "              \"cahya\":\"cahya/bert-base-indonesian-522M\",\n",
    "              \"google-bert\":\"google-bert/bert-base-uncased\"}"
   ]
  },
  {
   "cell_type": "code",
   "execution_count": 5,
   "metadata": {},
   "outputs": [
    {
     "name": "stdout",
     "output_type": "stream",
     "text": [
      "indobert_base_250207-141336\n"
     ]
    }
   ],
   "source": [
    "model_choice = \"indobert_base\"\n",
    "model_serial = model_choice + \"_\" + datetime.strftime(datetime.now(),format=\"%y%m%d-%H%M%S\")\n",
    "\n",
    "print(model_serial)"
   ]
  },
  {
   "cell_type": "code",
   "execution_count": 6,
   "metadata": {},
   "outputs": [],
   "source": [
    "tokenizer = AutoTokenizer.from_pretrained(model_name[model_choice])"
   ]
  },
  {
   "cell_type": "code",
   "execution_count": 7,
   "metadata": {},
   "outputs": [],
   "source": [
    "def tokenize_function(text):\n",
    "    return tokenizer(text[\"text\"], padding='max_length', max_length=256)\n",
    "\n",
    "tokenized_datasets = dataset.map(tokenize_function, batched=True)"
   ]
  },
  {
   "cell_type": "code",
   "execution_count": 8,
   "metadata": {},
   "outputs": [],
   "source": [
    "train_dataset = tokenized_datasets[\"train\"]\n",
    "eval_dataset = tokenized_datasets[\"eval\"]"
   ]
  },
  {
   "cell_type": "code",
   "execution_count": 9,
   "metadata": {},
   "outputs": [
    {
     "name": "stderr",
     "output_type": "stream",
     "text": [
      "Some weights of BertForSequenceClassification were not initialized from the model checkpoint at indobenchmark/indobert-base-p2 and are newly initialized: ['classifier.bias', 'classifier.weight']\n",
      "You should probably TRAIN this model on a down-stream task to be able to use it for predictions and inference.\n"
     ]
    }
   ],
   "source": [
    "model = AutoModelForSequenceClassification.from_pretrained(model_name[model_choice], num_labels=3)"
   ]
  },
  {
   "cell_type": "code",
   "execution_count": null,
   "metadata": {},
   "outputs": [
    {
     "name": "stderr",
     "output_type": "stream",
     "text": [
      "C:\\Users\\Revalda Putawara\\AppData\\Roaming\\Python\\Python312\\site-packages\\transformers\\training_args.py:1575: FutureWarning: `evaluation_strategy` is deprecated and will be removed in version 4.46 of 🤗 Transformers. Use `eval_strategy` instead\n",
      "  warnings.warn(\n"
     ]
    }
   ],
   "source": [
    "training_args = TrainingArguments(\n",
    "    \"test_trainer_\"+model_serial, \n",
    "    per_device_train_batch_size=4,\n",
    "    num_train_epochs=10,\n",
    "    #label_names=[\"label\"],\n",
    "    logging_strategy=\"epoch\",\n",
    "    evaluation_strategy=\"epoch\", #ensures that evaluation happen after every epoch\n",
    ")"
   ]
  },
  {
   "cell_type": "code",
   "execution_count": 11,
   "metadata": {},
   "outputs": [],
   "source": [
    "accuracy = evaluate.load(\"accuracy\")"
   ]
  },
  {
   "cell_type": "code",
   "execution_count": 12,
   "metadata": {},
   "outputs": [],
   "source": [
    "def compute_metrics(eval_pred):\n",
    "    logits, labels = eval_pred\n",
    "    predictions = np.argmax(logits, axis=-1)\n",
    "\n",
    "    return accuracy.compute(predictions=predictions, references=labels)"
   ]
  },
  {
   "cell_type": "code",
   "execution_count": 13,
   "metadata": {},
   "outputs": [],
   "source": [
    "f1_metric = evaluate.load(\"f1\")\n",
    "\n",
    "def compute_f1(eval_pred):\n",
    "    logits, labels = eval_pred\n",
    "    predictions = np.argmax(logits, axis=-1)\n",
    "\n",
    "    return f1_metric.compute(predictions=predictions, references=labels)"
   ]
  },
  {
   "cell_type": "markdown",
   "metadata": {},
   "source": [
    "## Start Training"
   ]
  },
  {
   "cell_type": "code",
   "execution_count": 14,
   "metadata": {},
   "outputs": [
    {
     "data": {
      "text/html": [
       "\n",
       "    <div>\n",
       "      \n",
       "      <progress value='9440' max='9440' style='width:300px; height:20px; vertical-align: middle;'></progress>\n",
       "      [9440/9440 1:11:04, Epoch 10/10]\n",
       "    </div>\n",
       "    <table border=\"1\" class=\"dataframe\">\n",
       "  <thead>\n",
       " <tr style=\"text-align: left;\">\n",
       "      <th>Epoch</th>\n",
       "      <th>Training Loss</th>\n",
       "      <th>Validation Loss</th>\n",
       "      <th>Accuracy</th>\n",
       "    </tr>\n",
       "  </thead>\n",
       "  <tbody>\n",
       "    <tr>\n",
       "      <td>1</td>\n",
       "      <td>0.784600</td>\n",
       "      <td>0.842287</td>\n",
       "      <td>0.777385</td>\n",
       "    </tr>\n",
       "    <tr>\n",
       "      <td>2</td>\n",
       "      <td>0.620400</td>\n",
       "      <td>0.778749</td>\n",
       "      <td>0.798587</td>\n",
       "    </tr>\n",
       "    <tr>\n",
       "      <td>3</td>\n",
       "      <td>0.481800</td>\n",
       "      <td>0.878219</td>\n",
       "      <td>0.818610</td>\n",
       "    </tr>\n",
       "    <tr>\n",
       "      <td>4</td>\n",
       "      <td>0.296100</td>\n",
       "      <td>1.161850</td>\n",
       "      <td>0.795053</td>\n",
       "    </tr>\n",
       "    <tr>\n",
       "      <td>5</td>\n",
       "      <td>0.193500</td>\n",
       "      <td>1.178664</td>\n",
       "      <td>0.805654</td>\n",
       "    </tr>\n",
       "    <tr>\n",
       "      <td>6</td>\n",
       "      <td>0.111800</td>\n",
       "      <td>1.344028</td>\n",
       "      <td>0.805654</td>\n",
       "    </tr>\n",
       "    <tr>\n",
       "      <td>7</td>\n",
       "      <td>0.054400</td>\n",
       "      <td>1.393193</td>\n",
       "      <td>0.817432</td>\n",
       "    </tr>\n",
       "    <tr>\n",
       "      <td>8</td>\n",
       "      <td>0.041200</td>\n",
       "      <td>1.531916</td>\n",
       "      <td>0.816254</td>\n",
       "    </tr>\n",
       "    <tr>\n",
       "      <td>9</td>\n",
       "      <td>0.015000</td>\n",
       "      <td>1.703643</td>\n",
       "      <td>0.810365</td>\n",
       "    </tr>\n",
       "    <tr>\n",
       "      <td>10</td>\n",
       "      <td>0.000100</td>\n",
       "      <td>1.712517</td>\n",
       "      <td>0.812721</td>\n",
       "    </tr>\n",
       "  </tbody>\n",
       "</table><p>"
      ],
      "text/plain": [
       "<IPython.core.display.HTML object>"
      ]
     },
     "metadata": {},
     "output_type": "display_data"
    }
   ],
   "source": [
    "torch.cuda.empty_cache()\n",
    "\n",
    "trainer = Trainer(\n",
    "    model=model,\n",
    "    args=training_args,\n",
    "    train_dataset=train_dataset,\n",
    "    eval_dataset=eval_dataset,\n",
    "    compute_metrics=compute_metrics,\n",
    ")\n",
    "\n",
    "training_history = trainer.train()"
   ]
  },
  {
   "cell_type": "code",
   "execution_count": 15,
   "metadata": {},
   "outputs": [
    {
     "data": {
      "text/plain": [
       "[{'loss': 0.7846,\n",
       "  'grad_norm': 62.71595764160156,\n",
       "  'learning_rate': 4.5e-05,\n",
       "  'epoch': 1.0,\n",
       "  'step': 944},\n",
       " {'eval_loss': 0.8422869443893433,\n",
       "  'eval_accuracy': 0.7773851590106007,\n",
       "  'eval_runtime': 21.6012,\n",
       "  'eval_samples_per_second': 39.303,\n",
       "  'eval_steps_per_second': 4.953,\n",
       "  'epoch': 1.0,\n",
       "  'step': 944},\n",
       " {'loss': 0.6204,\n",
       "  'grad_norm': 27.418621063232422,\n",
       "  'learning_rate': 4e-05,\n",
       "  'epoch': 2.0,\n",
       "  'step': 1888},\n",
       " {'eval_loss': 0.7787489295005798,\n",
       "  'eval_accuracy': 0.7985865724381626,\n",
       "  'eval_runtime': 23.6117,\n",
       "  'eval_samples_per_second': 35.957,\n",
       "  'eval_steps_per_second': 4.532,\n",
       "  'epoch': 2.0,\n",
       "  'step': 1888},\n",
       " {'loss': 0.4818,\n",
       "  'grad_norm': 0.4148983955383301,\n",
       "  'learning_rate': 3.5e-05,\n",
       "  'epoch': 3.0,\n",
       "  'step': 2832},\n",
       " {'eval_loss': 0.8782192468643188,\n",
       "  'eval_accuracy': 0.8186101295641932,\n",
       "  'eval_runtime': 26.0685,\n",
       "  'eval_samples_per_second': 32.568,\n",
       "  'eval_steps_per_second': 4.105,\n",
       "  'epoch': 3.0,\n",
       "  'step': 2832},\n",
       " {'loss': 0.2961,\n",
       "  'grad_norm': 0.09542667120695114,\n",
       "  'learning_rate': 3e-05,\n",
       "  'epoch': 4.0,\n",
       "  'step': 3776},\n",
       " {'eval_loss': 1.1618497371673584,\n",
       "  'eval_accuracy': 0.7950530035335689,\n",
       "  'eval_runtime': 27.0357,\n",
       "  'eval_samples_per_second': 31.403,\n",
       "  'eval_steps_per_second': 3.958,\n",
       "  'epoch': 4.0,\n",
       "  'step': 3776},\n",
       " {'loss': 0.1935,\n",
       "  'grad_norm': 0.04029962420463562,\n",
       "  'learning_rate': 2.5e-05,\n",
       "  'epoch': 5.0,\n",
       "  'step': 4720},\n",
       " {'eval_loss': 1.1786644458770752,\n",
       "  'eval_accuracy': 0.8056537102473498,\n",
       "  'eval_runtime': 19.6333,\n",
       "  'eval_samples_per_second': 43.243,\n",
       "  'eval_steps_per_second': 5.45,\n",
       "  'epoch': 5.0,\n",
       "  'step': 4720},\n",
       " {'loss': 0.1118,\n",
       "  'grad_norm': 0.005116176791489124,\n",
       "  'learning_rate': 2e-05,\n",
       "  'epoch': 6.0,\n",
       "  'step': 5664},\n",
       " {'eval_loss': 1.344028115272522,\n",
       "  'eval_accuracy': 0.8056537102473498,\n",
       "  'eval_runtime': 20.3701,\n",
       "  'eval_samples_per_second': 41.679,\n",
       "  'eval_steps_per_second': 5.253,\n",
       "  'epoch': 6.0,\n",
       "  'step': 5664},\n",
       " {'loss': 0.0544,\n",
       "  'grad_norm': 0.007951897569000721,\n",
       "  'learning_rate': 1.5e-05,\n",
       "  'epoch': 7.0,\n",
       "  'step': 6608},\n",
       " {'eval_loss': 1.3931928873062134,\n",
       "  'eval_accuracy': 0.817432273262662,\n",
       "  'eval_runtime': 25.1629,\n",
       "  'eval_samples_per_second': 33.74,\n",
       "  'eval_steps_per_second': 4.252,\n",
       "  'epoch': 7.0,\n",
       "  'step': 6608},\n",
       " {'loss': 0.0412,\n",
       "  'grad_norm': 0.003968723118305206,\n",
       "  'learning_rate': 1e-05,\n",
       "  'epoch': 8.0,\n",
       "  'step': 7552},\n",
       " {'eval_loss': 1.531915545463562,\n",
       "  'eval_accuracy': 0.8162544169611308,\n",
       "  'eval_runtime': 28.5319,\n",
       "  'eval_samples_per_second': 29.756,\n",
       "  'eval_steps_per_second': 3.75,\n",
       "  'epoch': 8.0,\n",
       "  'step': 7552},\n",
       " {'loss': 0.015,\n",
       "  'grad_norm': 0.0016571910819038749,\n",
       "  'learning_rate': 5e-06,\n",
       "  'epoch': 9.0,\n",
       "  'step': 8496},\n",
       " {'eval_loss': 1.7036434412002563,\n",
       "  'eval_accuracy': 0.8103651354534747,\n",
       "  'eval_runtime': 26.4321,\n",
       "  'eval_samples_per_second': 32.12,\n",
       "  'eval_steps_per_second': 4.048,\n",
       "  'epoch': 9.0,\n",
       "  'step': 8496},\n",
       " {'loss': 0.0001,\n",
       "  'grad_norm': 0.002216499065980315,\n",
       "  'learning_rate': 0.0,\n",
       "  'epoch': 10.0,\n",
       "  'step': 9440},\n",
       " {'eval_loss': 1.712517261505127,\n",
       "  'eval_accuracy': 0.8127208480565371,\n",
       "  'eval_runtime': 31.414,\n",
       "  'eval_samples_per_second': 27.026,\n",
       "  'eval_steps_per_second': 3.406,\n",
       "  'epoch': 10.0,\n",
       "  'step': 9440},\n",
       " {'train_runtime': 4265.4563,\n",
       "  'train_samples_per_second': 8.845,\n",
       "  'train_steps_per_second': 2.213,\n",
       "  'total_flos': 4963634625438720.0,\n",
       "  'train_loss': 0.2598834890177694,\n",
       "  'epoch': 10.0,\n",
       "  'step': 9440}]"
      ]
     },
     "execution_count": 15,
     "metadata": {},
     "output_type": "execute_result"
    }
   ],
   "source": [
    "trainer.state.log_history"
   ]
  },
  {
   "cell_type": "code",
   "execution_count": 16,
   "metadata": {},
   "outputs": [],
   "source": [
    "epochs = []\n",
    "steps = []\n",
    "losses = []\n",
    "val_losses = []\n",
    "\n",
    "for log in trainer.state.log_history:\n",
    "    if \"eval_loss\" in log: \n",
    "        epochs.append(log[\"epoch\"])\n",
    "        #losses.append(log[\"loss\"])\n",
    "        val_losses.append(log[\"eval_loss\"])\n",
    "    if \"loss\" in log: \n",
    "        #steps.append(log[\"epoch\"])\n",
    "        #losses.append(log[\"loss\"])\n",
    "        losses.append(log[\"loss\"])"
   ]
  },
  {
   "cell_type": "code",
   "execution_count": 17,
   "metadata": {},
   "outputs": [
    {
     "data": {
      "image/png": "[encoded data removed]",
      "text/plain": [
       "<Figure size 1000x500 with 1 Axes>"
      ]
     },
     "metadata": {},
     "output_type": "display_data"
    }
   ],
   "source": [
    "plt.figure(figsize=(10, 5))\n",
    "plt.plot(epochs, losses, label=\"training loss\")\n",
    "plt.plot(epochs, val_losses, label=\"validation loss\")\n",
    "plt.xlabel(\"Steps\")\n",
    "plt.ylabel(\"Loss\")\n",
    "plt.title(\"Training Loss over Steps\")\n",
    "plt.legend()\n",
    "plt.grid()\n",
    "plt.show()"
   ]
  },
  {
   "cell_type": "code",
   "execution_count": 18,
   "metadata": {},
   "outputs": [],
   "source": [
    "model.save_pretrained(\"model_\"+model_serial)"
   ]
  },
  {
   "cell_type": "markdown",
   "metadata": {},
   "source": [
    "## Evaluation"
   ]
  },
  {
   "cell_type": "code",
   "execution_count": 19,
   "metadata": {},
   "outputs": [
    {
     "data": {
      "text/html": [],
      "text/plain": [
       "<IPython.core.display.HTML object>"
      ]
     },
     "metadata": {},
     "output_type": "display_data"
    }
   ],
   "source": [
    "test_dataset = tokenized_datasets[\"test\"]\n",
    "\n",
    "prediction = trainer.predict(test_dataset)\n",
    "prediction = prediction.predictions.argmax(1)"
   ]
  },
  {
   "cell_type": "code",
   "execution_count": 20,
   "metadata": {},
   "outputs": [],
   "source": [
    "pd.DataFrame(prediction).to_csv(r\"result_prediction/prediction_\"+model_serial+'.csv',index=False)"
   ]
  },
  {
   "cell_type": "code",
   "execution_count": 21,
   "metadata": {},
   "outputs": [],
   "source": [
    "df_test=pd.read_csv(r\"dataset/train/test.csv\")\n",
    "actual_label = df_test['label']"
   ]
  },
  {
   "cell_type": "code",
   "execution_count": 22,
   "metadata": {},
   "outputs": [
    {
     "name": "stdout",
     "output_type": "stream",
     "text": [
      "              precision    recall  f1-score   support\n",
      "\n",
      "     Negatif       0.88      0.86      0.87        43\n",
      "      Netral       0.68      0.74      0.71        23\n",
      "     Positif       0.82      0.79      0.81        29\n",
      "\n",
      "    accuracy                           0.81        95\n",
      "   macro avg       0.79      0.80      0.80        95\n",
      "weighted avg       0.81      0.81      0.81        95\n",
      "\n"
     ]
    }
   ],
   "source": [
    "print(classification_report(prediction, actual_label, target_names=[\"Negatif\", \"Netral\", \"Positif\"]))"
   ]
  },
  {
   "cell_type": "code",
   "execution_count": 23,
   "metadata": {},
   "outputs": [
    {
     "data": {
      "image/png": "[encoded data removed]",
      "text/plain": [
       "<Figure size 640x480 with 2 Axes>"
      ]
     },
     "metadata": {},
     "output_type": "display_data"
    }
   ],
   "source": [
    "def show_confusion_matrix(confusion_matrix):\n",
    "        hmap = sns.heatmap(confusion_matrix, annot=True, fmt=\"d\", cmap=\"Blues\")\n",
    "        hmap.yaxis.set_ticklabels(hmap.yaxis.get_ticklabels(), rotation=0, ha='right')\n",
    "        hmap.xaxis.set_ticklabels(hmap.xaxis.get_ticklabels(), rotation=30, ha='right')\n",
    "\n",
    "        plt.ylabel('True Label')\n",
    "        plt.xlabel('Predicted Label')\n",
    "\n",
    "cm = confusion_matrix(prediction, actual_label)\n",
    "show_confusion_matrix(cm)"
   ]
  },
  {
   "cell_type": "code",
   "execution_count": 24,
   "metadata": {},
   "outputs": [
    {
     "data": {
      "text/plain": [
       "{'f1': 0.8091529520395415}"
      ]
     },
     "execution_count": 24,
     "metadata": {},
     "output_type": "execute_result"
    }
   ],
   "source": [
    "f1_metric.compute(predictions=prediction, references=actual_label, average=\"weighted\")"
   ]
  },
  {
   "cell_type": "code",
   "execution_count": null,
   "metadata": {},
   "outputs": [],
   "source": []
  },
  {
   "cell_type": "markdown",
   "metadata": {},
   "source": [
    "## Save Training Result"
   ]
  },
  {
   "cell_type": "code",
   "execution_count": 25,
   "metadata": {},
   "outputs": [],
   "source": [
    "save_dict = {}\n",
    "save_dict[\"trainer_history\"] = trainer.state.log_history\n",
    "save_dict[\"trainer_args\"] = trainer.args.to_dict()\n",
    "save_dict[\"trainer_model_config\"] = trainer.model.config.to_dict()"
   ]
  },
  {
   "cell_type": "code",
   "execution_count": 26,
   "metadata": {},
   "outputs": [],
   "source": [
    "with open(r\"result_model/result_\"+model_serial+'.json', 'w', encoding='utf-8') as f:\n",
    "    json.dump(save_dict, f, ensure_ascii=False, indent=4)"
   ]
  },
  {
   "cell_type": "code",
   "execution_count": 27,
   "metadata": {},
   "outputs": [
    {
     "data": {
      "text/plain": [
       "'indobert_base_250207-141336'"
      ]
     },
     "execution_count": 27,
     "metadata": {},
     "output_type": "execute_result"
    }
   ],
   "source": [
    "model_serial"
   ]
  },
  {
   "cell_type": "code",
   "execution_count": null,
   "metadata": {},
   "outputs": [],
   "source": []
  }
 ],
 "metadata": {
  "kernelspec": {
   "display_name": "Python 3",
   "language": "python",
   "name": "python3"
  },
  "language_info": {
   "codemirror_mode": {
    "name": "ipython",
    "version": 3
   },
   "file_extension": ".py",
   "mimetype": "text/x-python",
   "name": "python",
   "nbconvert_exporter": "python",
   "pygments_lexer": "ipython3",
   "version": "3.12.8"
  }
 },
 "nbformat": 4,
 "nbformat_minor": 2
}
